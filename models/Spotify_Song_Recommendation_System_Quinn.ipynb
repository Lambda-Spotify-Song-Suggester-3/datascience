{
  "nbformat": 4,
  "nbformat_minor": 0,
  "metadata": {
    "kernelspec": {
      "display_name": "Python 3",
      "language": "python",
      "name": "python3"
    },
    "language_info": {
      "codemirror_mode": {
        "name": "ipython",
        "version": 3
      },
      "file_extension": ".py",
      "mimetype": "text/x-python",
      "name": "python",
      "nbconvert_exporter": "python",
      "pygments_lexer": "ipython3",
      "version": "3.7.4"
    },
    "colab": {
      "name": "Spotify Song Recommendation System.ipynb",
      "provenance": [],
      "collapsed_sections": [
        "is1Vbqj1pONZ",
        "yECodaNHpON5",
        "J7qOkqbBGTka",
        "zY-hZlAIGUo-"
      ]
    },
    "accelerator": "GPU"
  },
  "cells": [
    {
      "cell_type": "markdown",
      "metadata": {
        "id": "-VoVD7fm_gr9",
        "colab_type": "text"
      },
      "source": [
        "## DEEPTUNES!\n",
        "Spotify Playlist Recommender \n",
        "\n",
        "*Padgett, Jacob*  \n",
        "*Quinn, Avery*  \n",
        "*Strauffer-Norris, Will*  \n",
        "\n",
        "**GIT: https://github.com/Lambda-Spotify-Song-Suggester-3/datascience**  \n",
        "**APP: https://deeptunes.now.sh/**"
      ]
    },
    {
      "cell_type": "markdown",
      "metadata": {
        "id": "is1Vbqj1pONZ",
        "colab_type": "text"
      },
      "source": [
        "## Load Data"
      ]
    },
    {
      "cell_type": "code",
      "metadata": {
        "id": "LBlcKOsPpONU",
        "colab_type": "code",
        "colab": {}
      },
      "source": [
        "# Imports\n",
        "import numpy as np\n",
        "import pandas as pd\n",
        "import seaborn as sns\n",
        "import matplotlib.pyplot as plt\n",
        "import plotly.express as px\n",
        "import plotly.graph_objects as go\n",
        "\n",
        "from sklearn.model_selection import train_test_split\n",
        "from keras.layers import Input, Embedding, Flatten, Dot\n",
        "from keras.models import Model\n",
        "from sklearn.decomposition import PCA\n",
        "\n",
        "from sklearn.metrics.pairwise import cosine_similarity\n",
        "from sklearn.preprocessing import MinMaxScaler\n",
        "\n",
        "from sklearn.preprocessing import StandardScaler\n",
        "from sklearn.neighbors import NearestNeighbors\n",
        "%matplotlib inline\n",
        "\n",
        "# Load Data\n",
        "data = pd.read_csv(\"https://raw.githubusercontent.com/Lambda-Spotify-Song-Suggester-3/datascience/master/kaggle_data/encoded.csv\")\n",
        "df = data.copy()"
      ],
      "execution_count": 0,
      "outputs": []
    },
    {
      "cell_type": "code",
      "metadata": {
        "id": "xetwPraWpONa",
        "colab_type": "code",
        "outputId": "28bf6214-2825-452e-9d60-e8d842c225af",
        "colab": {
          "base_uri": "https://localhost:8080/",
          "height": 117
        }
      },
      "source": [
        "print(df.shape)\n",
        "data.sample(1)"
      ],
      "execution_count": 0,
      "outputs": [
        {
          "output_type": "stream",
          "text": [
            "(130663, 19)\n"
          ],
          "name": "stdout"
        },
        {
          "output_type": "execute_result",
          "data": {
            "text/html": [
              "<div>\n",
              "<style scoped>\n",
              "    .dataframe tbody tr th:only-of-type {\n",
              "        vertical-align: middle;\n",
              "    }\n",
              "\n",
              "    .dataframe tbody tr th {\n",
              "        vertical-align: top;\n",
              "    }\n",
              "\n",
              "    .dataframe thead th {\n",
              "        text-align: right;\n",
              "    }\n",
              "</style>\n",
              "<table border=\"1\" class=\"dataframe\">\n",
              "  <thead>\n",
              "    <tr style=\"text-align: right;\">\n",
              "      <th></th>\n",
              "      <th>artist_name</th>\n",
              "      <th>track_id</th>\n",
              "      <th>track_name</th>\n",
              "      <th>acousticness</th>\n",
              "      <th>danceability</th>\n",
              "      <th>duration_ms</th>\n",
              "      <th>energy</th>\n",
              "      <th>instrumentalness</th>\n",
              "      <th>key</th>\n",
              "      <th>liveness</th>\n",
              "      <th>loudness</th>\n",
              "      <th>mode</th>\n",
              "      <th>speechiness</th>\n",
              "      <th>tempo</th>\n",
              "      <th>time_signature</th>\n",
              "      <th>valence</th>\n",
              "      <th>popularity</th>\n",
              "      <th>track_key</th>\n",
              "      <th>artist_key</th>\n",
              "    </tr>\n",
              "  </thead>\n",
              "  <tbody>\n",
              "    <tr>\n",
              "      <th>42539</th>\n",
              "      <td>S-X</td>\n",
              "      <td>47lUlUSCV2oUcpI7qlKN5o</td>\n",
              "      <td>Stay</td>\n",
              "      <td>0.516</td>\n",
              "      <td>0.368</td>\n",
              "      <td>193622</td>\n",
              "      <td>0.488</td>\n",
              "      <td>0.000414</td>\n",
              "      <td>5</td>\n",
              "      <td>0.0924</td>\n",
              "      <td>-6.076</td>\n",
              "      <td>0</td>\n",
              "      <td>0.0378</td>\n",
              "      <td>87.011</td>\n",
              "      <td>4</td>\n",
              "      <td>0.156</td>\n",
              "      <td>36</td>\n",
              "      <td>42528</td>\n",
              "      <td>9996</td>\n",
              "    </tr>\n",
              "  </tbody>\n",
              "</table>\n",
              "</div>"
            ],
            "text/plain": [
              "      artist_name                track_id  ... track_key  artist_key\n",
              "42539         S-X  47lUlUSCV2oUcpI7qlKN5o  ...     42528        9996\n",
              "\n",
              "[1 rows x 19 columns]"
            ]
          },
          "metadata": {
            "tags": []
          },
          "execution_count": 70
        }
      ]
    },
    {
      "cell_type": "markdown",
      "metadata": {
        "id": "yECodaNHpON5",
        "colab_type": "text"
      },
      "source": [
        "## Neural Network"
      ]
    },
    {
      "cell_type": "code",
      "metadata": {
        "id": "IYNDZ2tY5qBa",
        "colab_type": "code",
        "outputId": "f965253c-d6c6-4a4e-fd7f-586a4a6db451",
        "colab": {
          "base_uri": "https://localhost:8080/",
          "height": 51
        }
      },
      "source": [
        "# Truncate dataframe\n",
        "df = df[:10000]\n",
        "# Drop non-numeric columns\n",
        "df = df.drop(columns=['artist_name','track_id', 'track_name'])\n",
        "\n",
        "# Train / Test Split\n",
        "train, test = train_test_split(df, test_size=0.2, random_state=42)\n",
        "\n",
        "# Features / Target\n",
        "X_train = train.drop(columns='popularity')\n",
        "y_train = train['popularity']\n",
        "X_test = test.drop(columns='popularity')\n",
        "y_test= test['popularity']\n",
        "\n",
        "# Unique Number of artist and songs\n",
        "n_artists = len(df['artist_key'].unique())\n",
        "n_songs = len(df['track_key'].unique())\n",
        "print(\"artists:\",n_artists)\n",
        "print(\"songs:\", n_songs)"
      ],
      "execution_count": 0,
      "outputs": [
        {
          "output_type": "stream",
          "text": [
            "artists: 3770\n",
            "songs: 9989\n"
          ],
          "name": "stdout"
        }
      ]
    },
    {
      "cell_type": "code",
      "metadata": {
        "id": "VbjBCkxG3fp4",
        "colab_type": "code",
        "outputId": "7f39b387-22af-4158-ebc3-839674459603",
        "colab": {
          "base_uri": "https://localhost:8080/",
          "height": 1000
        }
      },
      "source": [
        "# Neural Network Model \n",
        "\n",
        "# Model Layers \n",
        "#=> Embedding Artists\n",
        "artist_input = Input(shape=[1], name=\"Artist-Input\")\n",
        "artist_embedding = Embedding(n_artists+1, 5, name=\"Artist-Embedding\")(artist_input)\n",
        "artist_vec = Flatten(name=\"Flatten-Artist\")(artist_embedding)\n",
        "\n",
        "#=> Embedding Song\n",
        "song_input = Input(shape=[1], name=\"Song-Input\")\n",
        "song_embedding = Embedding(n_songs+1, 5, name=\"Song-Embedding\")(song_input)\n",
        "song_vec = Flatten(name=\"Flatten-Song\")(song_embedding)\n",
        "\n",
        "# Model\n",
        "prod = Dot(name=\"Dot-Product\", axes=1)([artist_vec, song_vec])\n",
        "model = Model([artist_input, song_input], prod)\n",
        "\n",
        "# Compile Model\n",
        "model.compile('adam', 'mean_squared_error')\n",
        "\n",
        "# Fit Model\n",
        "history = model.fit([train.artist_key, train.track_key], train.popularity, epochs=200, verbose=2)\n",
        "plt.plot(history.history['loss'])\n",
        "plt.xlabel(\"Epochs\")\n",
        "plt.ylabel(\"Training Error\")"
      ],
      "execution_count": 0,
      "outputs": [
        {
          "output_type": "stream",
          "text": [
            "/usr/local/lib/python3.6/dist-packages/tensorflow/python/framework/indexed_slices.py:434: UserWarning:\n",
            "\n",
            "Converting sparse IndexedSlices to a dense Tensor of unknown shape. This may consume a large amount of memory.\n",
            "\n"
          ],
          "name": "stderr"
        },
        {
          "output_type": "stream",
          "text": [
            "Epoch 1/200\n",
            " - 1s - loss: 1033.8552\n",
            "Epoch 2/200\n",
            " - 1s - loss: 1033.7156\n",
            "Epoch 3/200\n",
            " - 1s - loss: 1033.4073\n",
            "Epoch 4/200\n",
            " - 1s - loss: 1032.7474\n",
            "Epoch 5/200\n",
            " - 1s - loss: 1031.5786\n",
            "Epoch 6/200\n",
            " - 1s - loss: 1029.8297\n",
            "Epoch 7/200\n",
            " - 1s - loss: 1027.5070\n",
            "Epoch 8/200\n",
            " - 1s - loss: 1024.6451\n",
            "Epoch 9/200\n",
            " - 1s - loss: 1021.2979\n",
            "Epoch 10/200\n",
            " - 1s - loss: 1017.5172\n",
            "Epoch 11/200\n",
            " - 1s - loss: 1013.3383\n",
            "Epoch 12/200\n",
            " - 1s - loss: 1008.8018\n",
            "Epoch 13/200\n",
            " - 1s - loss: 1003.9294\n",
            "Epoch 14/200\n",
            " - 1s - loss: 998.7514\n",
            "Epoch 15/200\n",
            " - 1s - loss: 993.2979\n",
            "Epoch 16/200\n",
            " - 1s - loss: 987.5703\n",
            "Epoch 17/200\n",
            " - 1s - loss: 981.5887\n",
            "Epoch 18/200\n",
            " - 1s - loss: 975.3727\n",
            "Epoch 19/200\n",
            " - 1s - loss: 968.9314\n",
            "Epoch 20/200\n",
            " - 1s - loss: 962.2718\n",
            "Epoch 21/200\n",
            " - 1s - loss: 955.4003\n",
            "Epoch 22/200\n",
            " - 1s - loss: 948.3317\n",
            "Epoch 23/200\n",
            " - 1s - loss: 941.0663\n",
            "Epoch 24/200\n",
            " - 1s - loss: 933.6213\n",
            "Epoch 25/200\n",
            " - 1s - loss: 925.9995\n",
            "Epoch 26/200\n",
            " - 1s - loss: 918.2077\n",
            "Epoch 27/200\n",
            " - 1s - loss: 910.2492\n",
            "Epoch 28/200\n",
            " - 1s - loss: 902.1316\n",
            "Epoch 29/200\n",
            " - 1s - loss: 893.8637\n",
            "Epoch 30/200\n",
            " - 1s - loss: 885.4498\n",
            "Epoch 31/200\n",
            " - 1s - loss: 876.8950\n",
            "Epoch 32/200\n",
            " - 1s - loss: 868.1991\n",
            "Epoch 33/200\n",
            " - 1s - loss: 859.3714\n",
            "Epoch 34/200\n",
            " - 1s - loss: 850.4226\n",
            "Epoch 35/200\n",
            " - 1s - loss: 841.3495\n",
            "Epoch 36/200\n",
            " - 1s - loss: 832.1679\n",
            "Epoch 37/200\n",
            " - 1s - loss: 822.8837\n",
            "Epoch 38/200\n",
            " - 1s - loss: 813.4990\n",
            "Epoch 39/200\n",
            " - 1s - loss: 804.0093\n",
            "Epoch 40/200\n",
            " - 1s - loss: 794.4407\n",
            "Epoch 41/200\n",
            " - 1s - loss: 784.7784\n",
            "Epoch 42/200\n",
            " - 1s - loss: 775.0457\n",
            "Epoch 43/200\n",
            " - 1s - loss: 765.2326\n",
            "Epoch 44/200\n",
            " - 1s - loss: 755.3475\n",
            "Epoch 45/200\n",
            " - 1s - loss: 745.4011\n",
            "Epoch 46/200\n",
            " - 1s - loss: 735.4009\n",
            "Epoch 47/200\n",
            " - 1s - loss: 725.3548\n",
            "Epoch 48/200\n",
            " - 1s - loss: 715.2587\n",
            "Epoch 49/200\n",
            " - 1s - loss: 705.1284\n",
            "Epoch 50/200\n",
            " - 1s - loss: 694.9651\n",
            "Epoch 51/200\n",
            " - 1s - loss: 684.7683\n",
            "Epoch 52/200\n",
            " - 1s - loss: 674.5532\n",
            "Epoch 53/200\n",
            " - 1s - loss: 664.3205\n",
            "Epoch 54/200\n",
            " - 1s - loss: 654.0720\n",
            "Epoch 55/200\n",
            " - 1s - loss: 643.8362\n",
            "Epoch 56/200\n",
            " - 1s - loss: 633.5865\n",
            "Epoch 57/200\n",
            " - 1s - loss: 623.3589\n",
            "Epoch 58/200\n",
            " - 1s - loss: 613.1382\n",
            "Epoch 59/200\n",
            " - 1s - loss: 602.9315\n",
            "Epoch 60/200\n",
            " - 1s - loss: 592.7631\n",
            "Epoch 61/200\n",
            " - 1s - loss: 582.6197\n",
            "Epoch 62/200\n",
            " - 1s - loss: 572.5039\n",
            "Epoch 63/200\n",
            " - 1s - loss: 562.4350\n",
            "Epoch 64/200\n",
            " - 1s - loss: 552.4211\n",
            "Epoch 65/200\n",
            " - 1s - loss: 542.4377\n",
            "Epoch 66/200\n",
            " - 1s - loss: 532.5089\n",
            "Epoch 67/200\n",
            " - 1s - loss: 522.6407\n",
            "Epoch 68/200\n",
            " - 1s - loss: 512.8348\n",
            "Epoch 69/200\n",
            " - 1s - loss: 503.0889\n",
            "Epoch 70/200\n",
            " - 1s - loss: 493.4111\n",
            "Epoch 71/200\n",
            " - 1s - loss: 483.8154\n",
            "Epoch 72/200\n",
            " - 1s - loss: 474.2860\n",
            "Epoch 73/200\n",
            " - 1s - loss: 464.8434\n",
            "Epoch 74/200\n",
            " - 1s - loss: 455.4769\n",
            "Epoch 75/200\n",
            " - 1s - loss: 446.1923\n",
            "Epoch 76/200\n",
            " - 1s - loss: 437.0127\n",
            "Epoch 77/200\n",
            " - 1s - loss: 427.9036\n",
            "Epoch 78/200\n",
            " - 1s - loss: 418.9014\n",
            "Epoch 79/200\n",
            " - 1s - loss: 409.9998\n",
            "Epoch 80/200\n",
            " - 1s - loss: 401.2019\n",
            "Epoch 81/200\n",
            " - 1s - loss: 392.4954\n",
            "Epoch 82/200\n",
            " - 1s - loss: 383.9100\n",
            "Epoch 83/200\n",
            " - 1s - loss: 375.4154\n",
            "Epoch 84/200\n",
            " - 1s - loss: 367.0416\n",
            "Epoch 85/200\n",
            " - 1s - loss: 358.7844\n",
            "Epoch 86/200\n",
            " - 1s - loss: 350.6351\n",
            "Epoch 87/200\n",
            " - 1s - loss: 342.6039\n",
            "Epoch 88/200\n",
            " - 1s - loss: 334.6898\n",
            "Epoch 89/200\n",
            " - 1s - loss: 326.8840\n",
            "Epoch 90/200\n",
            " - 1s - loss: 319.2017\n",
            "Epoch 91/200\n",
            " - 1s - loss: 311.6464\n",
            "Epoch 92/200\n",
            " - 1s - loss: 304.2108\n",
            "Epoch 93/200\n",
            " - 1s - loss: 296.9004\n",
            "Epoch 94/200\n",
            " - 1s - loss: 289.6982\n",
            "Epoch 95/200\n",
            " - 1s - loss: 282.6194\n",
            "Epoch 96/200\n",
            " - 1s - loss: 275.6777\n",
            "Epoch 97/200\n",
            " - 1s - loss: 268.8579\n",
            "Epoch 98/200\n",
            " - 1s - loss: 262.1476\n",
            "Epoch 99/200\n",
            " - 1s - loss: 255.5702\n",
            "Epoch 100/200\n",
            " - 1s - loss: 249.1095\n",
            "Epoch 101/200\n",
            " - 1s - loss: 242.7662\n",
            "Epoch 102/200\n",
            " - 1s - loss: 236.5396\n",
            "Epoch 103/200\n",
            " - 1s - loss: 230.4337\n",
            "Epoch 104/200\n",
            " - 1s - loss: 224.4453\n",
            "Epoch 105/200\n",
            " - 1s - loss: 218.5733\n",
            "Epoch 106/200\n",
            " - 1s - loss: 212.8244\n",
            "Epoch 107/200\n",
            " - 1s - loss: 207.1788\n",
            "Epoch 108/200\n",
            " - 1s - loss: 201.6506\n",
            "Epoch 109/200\n",
            " - 1s - loss: 196.2347\n",
            "Epoch 110/200\n",
            " - 1s - loss: 190.9304\n",
            "Epoch 111/200\n",
            " - 1s - loss: 185.7278\n",
            "Epoch 112/200\n",
            " - 1s - loss: 180.6331\n",
            "Epoch 113/200\n",
            " - 1s - loss: 175.6480\n",
            "Epoch 114/200\n",
            " - 1s - loss: 170.7603\n",
            "Epoch 115/200\n",
            " - 1s - loss: 165.9749\n",
            "Epoch 116/200\n",
            " - 1s - loss: 161.2984\n",
            "Epoch 117/200\n",
            " - 1s - loss: 156.7123\n",
            "Epoch 118/200\n",
            " - 1s - loss: 152.2261\n",
            "Epoch 119/200\n",
            " - 1s - loss: 147.8279\n",
            "Epoch 120/200\n",
            " - 1s - loss: 143.5291\n",
            "Epoch 121/200\n",
            " - 1s - loss: 139.3197\n",
            "Epoch 122/200\n",
            " - 1s - loss: 135.2029\n",
            "Epoch 123/200\n",
            " - 1s - loss: 131.1782\n",
            "Epoch 124/200\n",
            " - 1s - loss: 127.2382\n",
            "Epoch 125/200\n",
            " - 1s - loss: 123.3853\n",
            "Epoch 126/200\n",
            " - 1s - loss: 119.6216\n",
            "Epoch 127/200\n",
            " - 1s - loss: 115.9328\n",
            "Epoch 128/200\n",
            " - 1s - loss: 112.3250\n",
            "Epoch 129/200\n",
            " - 1s - loss: 108.7928\n",
            "Epoch 130/200\n",
            " - 1s - loss: 105.3416\n",
            "Epoch 131/200\n",
            " - 1s - loss: 101.9763\n",
            "Epoch 132/200\n",
            " - 1s - loss: 98.6796\n",
            "Epoch 133/200\n",
            " - 1s - loss: 95.4595\n",
            "Epoch 134/200\n",
            " - 1s - loss: 92.3089\n",
            "Epoch 135/200\n",
            " - 1s - loss: 89.2321\n",
            "Epoch 136/200\n",
            " - 1s - loss: 86.2268\n",
            "Epoch 137/200\n",
            " - 1s - loss: 83.2908\n",
            "Epoch 138/200\n",
            " - 1s - loss: 80.4294\n",
            "Epoch 139/200\n",
            " - 1s - loss: 77.6354\n",
            "Epoch 140/200\n",
            " - 1s - loss: 74.9097\n",
            "Epoch 141/200\n",
            " - 1s - loss: 72.2472\n",
            "Epoch 142/200\n",
            " - 1s - loss: 69.6528\n",
            "Epoch 143/200\n",
            " - 1s - loss: 67.1225\n",
            "Epoch 144/200\n",
            " - 1s - loss: 64.6569\n",
            "Epoch 145/200\n",
            " - 1s - loss: 62.2493\n",
            "Epoch 146/200\n",
            " - 1s - loss: 59.9105\n",
            "Epoch 147/200\n",
            " - 1s - loss: 57.6279\n",
            "Epoch 148/200\n",
            " - 1s - loss: 55.4076\n",
            "Epoch 149/200\n",
            " - 1s - loss: 53.2442\n",
            "Epoch 150/200\n",
            " - 1s - loss: 51.1408\n",
            "Epoch 151/200\n",
            " - 1s - loss: 49.0977\n",
            "Epoch 152/200\n",
            " - 1s - loss: 47.1090\n",
            "Epoch 153/200\n",
            " - 1s - loss: 45.1759\n",
            "Epoch 154/200\n",
            " - 1s - loss: 43.2960\n",
            "Epoch 155/200\n",
            " - 1s - loss: 41.4731\n",
            "Epoch 156/200\n",
            " - 1s - loss: 39.7022\n",
            "Epoch 157/200\n",
            " - 1s - loss: 37.9851\n",
            "Epoch 158/200\n",
            " - 1s - loss: 36.3184\n",
            "Epoch 159/200\n",
            " - 1s - loss: 34.7058\n",
            "Epoch 160/200\n",
            " - 1s - loss: 33.1399\n",
            "Epoch 161/200\n",
            " - 1s - loss: 31.6245\n",
            "Epoch 162/200\n",
            " - 1s - loss: 30.1553\n",
            "Epoch 163/200\n",
            " - 1s - loss: 28.7367\n",
            "Epoch 164/200\n",
            " - 1s - loss: 27.3639\n",
            "Epoch 165/200\n",
            " - 1s - loss: 26.0395\n",
            "Epoch 166/200\n",
            " - 1s - loss: 24.7594\n",
            "Epoch 167/200\n",
            " - 1s - loss: 23.5243\n",
            "Epoch 168/200\n",
            " - 1s - loss: 22.3309\n",
            "Epoch 169/200\n",
            " - 1s - loss: 21.1827\n",
            "Epoch 170/200\n",
            " - 1s - loss: 20.0749\n",
            "Epoch 171/200\n",
            " - 1s - loss: 19.0091\n",
            "Epoch 172/200\n",
            " - 1s - loss: 17.9832\n",
            "Epoch 173/200\n",
            " - 1s - loss: 16.9958\n",
            "Epoch 174/200\n",
            " - 1s - loss: 16.0486\n",
            "Epoch 175/200\n",
            " - 1s - loss: 15.1426\n",
            "Epoch 176/200\n",
            " - 1s - loss: 14.2730\n",
            "Epoch 177/200\n",
            " - 1s - loss: 13.4401\n",
            "Epoch 178/200\n",
            " - 1s - loss: 12.6406\n",
            "Epoch 179/200\n",
            " - 1s - loss: 11.8781\n",
            "Epoch 180/200\n",
            " - 1s - loss: 11.1507\n",
            "Epoch 181/200\n",
            " - 1s - loss: 10.4550\n",
            "Epoch 182/200\n",
            " - 1s - loss: 9.7923\n",
            "Epoch 183/200\n",
            " - 1s - loss: 9.1622\n",
            "Epoch 184/200\n",
            " - 1s - loss: 8.5630\n",
            "Epoch 185/200\n",
            " - 1s - loss: 7.9945\n",
            "Epoch 186/200\n",
            " - 1s - loss: 7.4548\n",
            "Epoch 187/200\n",
            " - 1s - loss: 6.9434\n",
            "Epoch 188/200\n",
            " - 1s - loss: 6.4620\n",
            "Epoch 189/200\n",
            " - 1s - loss: 6.0056\n",
            "Epoch 190/200\n",
            " - 1s - loss: 5.5742\n",
            "Epoch 191/200\n",
            " - 1s - loss: 5.1689\n",
            "Epoch 192/200\n",
            " - 1s - loss: 4.7872\n",
            "Epoch 193/200\n",
            " - 1s - loss: 4.4277\n",
            "Epoch 194/200\n",
            " - 1s - loss: 4.0920\n",
            "Epoch 195/200\n",
            " - 1s - loss: 3.7766\n",
            "Epoch 196/200\n",
            " - 1s - loss: 3.4837\n",
            "Epoch 197/200\n",
            " - 1s - loss: 3.2083\n",
            "Epoch 198/200\n",
            " - 1s - loss: 2.9521\n",
            "Epoch 199/200\n",
            " - 1s - loss: 2.7128\n",
            "Epoch 200/200\n",
            " - 1s - loss: 2.4923\n"
          ],
          "name": "stdout"
        },
        {
          "output_type": "execute_result",
          "data": {
            "text/plain": [
              "Text(0, 0.5, 'Training Error')"
            ]
          },
          "metadata": {
            "tags": []
          },
          "execution_count": 72
        },
        {
          "output_type": "display_data",
          "data": {
            "image/png": "[encoded data removed]",
            "text/plain": [
              "<Figure size 432x288 with 1 Axes>"
            ]
          },
          "metadata": {
            "tags": [],
            "needs_background": "light"
          }
        }
      ]
    },
    {
      "cell_type": "code",
      "metadata": {
        "id": "wH9F7QGGAHTL",
        "colab_type": "code",
        "outputId": "82d2fd18-0a2d-42c8-81d0-b92de842a542",
        "colab": {
          "base_uri": "https://localhost:8080/",
          "height": 119
        }
      },
      "source": [
        "# Evaluate\n",
        "model.evaluate([test.artist_key, test.track_key], test.popularity)\n",
        "# Predict\n",
        "predictions = model.predict([test.artist_key.head(5), test.track_key.head(5)])\n",
        "[print(predictions[i], test.popularity.iloc[i]) for i in range(0,5)]\n",
        "\n",
        "# Extract embeddings\n",
        "song_em = model.get_layer('Song-Embedding')\n",
        "song_em_weights = song_em.get_weights()[0]"
      ],
      "execution_count": 0,
      "outputs": [
        {
          "output_type": "stream",
          "text": [
            "2000/2000 [==============================] - 0s 43us/step\n",
            "[-0.54296184] 38\n",
            "[-0.00074168] 43\n",
            "[0.19359007] 24\n",
            "[-0.03520726] 0\n",
            "[0.15883607] 21\n"
          ],
          "name": "stdout"
        }
      ]
    },
    {
      "cell_type": "code",
      "metadata": {
        "id": "4UbL1g7nBXYu",
        "colab_type": "code",
        "outputId": "dcc6959c-85ab-48f8-e091-5f208d803a2d",
        "colab": {
          "base_uri": "https://localhost:8080/",
          "height": 282
        }
      },
      "source": [
        "pca = PCA(n_components=2)\n",
        "pca_result = pca.fit_transform(song_em_weights)\n",
        "sns.scatterplot(x=pca_result[:,0], y=pca_result[:,1])"
      ],
      "execution_count": 0,
      "outputs": [
        {
          "output_type": "execute_result",
          "data": {
            "text/plain": [
              "<matplotlib.axes._subplots.AxesSubplot at 0x7ff82cde9fd0>"
            ]
          },
          "metadata": {
            "tags": []
          },
          "execution_count": 74
        },
        {
          "output_type": "display_data",
          "data": {
            "image/png": "[encoded data removed]",
            "text/plain": [
              "<Figure size 432x288 with 1 Axes>"
            ]
          },
          "metadata": {
            "tags": [],
            "needs_background": "light"
          }
        }
      ]
    },
    {
      "cell_type": "code",
      "metadata": {
        "id": "RrvdxBqfCflA",
        "colab_type": "code",
        "outputId": "c4540c01-e5d6-4273-f764-ad8dab1afa0a",
        "colab": {
          "base_uri": "https://localhost:8080/",
          "height": 68
        }
      },
      "source": [
        "#=> Making recommendation\n",
        "\n",
        "# array of encoded songs\n",
        "song_data = np.array(list(df.track_key))\n",
        "\n",
        "# Test Song:(404) Maroon 5 \"Girls Like You\"\n",
        "artist = np.array([404 for i in range(len(song_data))])\n",
        "\n",
        "# Predictions\n",
        "predictions = model.predict([artist, song_data])\n",
        "predictions = np.array([a[0] for a in predictions])\n",
        "recommended_song_ids = (-predictions).argsort()[:10]\n",
        "print(\"Songs:\", recommended_song_ids)\n",
        "print(\"Predictions:\", predictions[recommended_song_ids])\n",
        "\n",
        "# Returns dataframe of tens predicted songs ordered by index value\n",
        "#data[data[\"track_key\"].isin(recommended_song_ids)]"
      ],
      "execution_count": 0,
      "outputs": [
        {
          "output_type": "stream",
          "text": [
            "Songs: [9941 9897 7391  523 9348 3620  188 3629  189 9803]\n",
            "Predictions: [42.668606 42.302185 42.204712 42.079525 42.053787 42.037502 41.89334\n",
            " 41.74872  41.71405  41.57731 ]\n"
          ],
          "name": "stdout"
        }
      ]
    },
    {
      "cell_type": "code",
      "metadata": {
        "id": "E37Bw8r4YeW0",
        "colab_type": "code",
        "colab": {}
      },
      "source": [
        "#=> HOW TO SAVE AND LOAD MODEL\n",
        "#model.save(\"model.h5\")\n",
        "#print(\"Saved model to disk\")\n",
        "\n",
        "#=> IMPORT\n",
        "#from keras.models import load_model\n",
        "\n",
        "#=> LOAD MODEL\n",
        "#model = load_model('model.h5')\n",
        "\n",
        "#=> SUMMARIZE MODEL\n",
        "#model.summary()"
      ],
      "execution_count": 0,
      "outputs": []
    },
    {
      "cell_type": "code",
      "metadata": {
        "id": "I_BT48R0D-9F",
        "colab_type": "code",
        "colab": {}
      },
      "source": [
        "# Helper Functions\n",
        "def epic_predictor(input_track_key):\n",
        "  '''\n",
        "  This function takes in a 'track_key' and returns a list of ten numbers \n",
        "  that are the \"track_key\"s of the dataframe imported above.\n",
        "  '''\n",
        "  song_data = np.array(list(df.track_key))\n",
        "  artist = np.array([input_track_key for i in range(len(song_data))])\n",
        "\n",
        "  predictions = model.predict([artist, song_data])\n",
        "  predictions = np.array([a[0] for a in predictions])\n",
        "  recommended_song_ids = (-predictions).argsort()[:10]\n",
        "\n",
        "  ten_similar_tracks = df[df[\"track_key\"].isin(recommended_song_ids)]\n",
        "  \n",
        "  return ten_similar_tracks['track_key'].tolist()\n",
        "\n",
        "def feature_average(input_track_key):\n",
        "  '''\n",
        "  This function returns the average of the features for the ten recommended songs.\n",
        "  '''\n",
        "  song_data = np.array(list(df.track_key))\n",
        "  artist = np.array([input_track_key for i in range(len(song_data))])\n",
        "\n",
        "  predictions = model.predict([artist, song_data])\n",
        "  predictions = np.array([a[0] for a in predictions])\n",
        "  recommended_song_ids = (-predictions).argsort()[:10]\n",
        "\n",
        "  # Return a dataframe with only the ten most similar tracks\n",
        "  ten_similar_tracks = df[df[\"track_key\"].isin(recommended_song_ids)]\n",
        "  ten_similar_tracks = ten_similar_tracks[['acousticness', 'danceability', \n",
        "                                           'energy', 'instrumentalness', \n",
        "                                           'liveness', 'mode', \n",
        "                                           'speechiness', 'valence']]\n",
        "\n",
        "  # Average features of ten tracks                                           \n",
        "  acousticness = round(ten_similar_tracks['acousticness'].mean(),2)\n",
        "  danceability = round(ten_similar_tracks['danceability'].mean(),2)\n",
        "  energy = round(ten_similar_tracks['energy'].mean(),2)\n",
        "  instrumentalness = round(ten_similar_tracks['instrumentalness'].mean(),2)\n",
        "  liveness = round(ten_similar_tracks['liveness'].mean(),2)\n",
        "  mode = round(ten_similar_tracks['mode'].mean(),2)\n",
        "  speechiness = round(ten_similar_tracks['speechiness'].mean(),2)\n",
        "  valence = round(ten_similar_tracks['valence'].mean(),2)\n",
        "  \n",
        "  # Store all to \"features\" variable\n",
        "  features = acousticness, danceability, energy, instrumentalness, liveness, mode, speechiness, valence\n",
        "  \n",
        "  return features"
      ],
      "execution_count": 0,
      "outputs": []
    },
    {
      "cell_type": "code",
      "metadata": {
        "id": "5MG_AarnD-6N",
        "colab_type": "code",
        "outputId": "4369e074-bba4-4616-b2c3-f5bb1cdb29fe",
        "colab": {
          "base_uri": "https://localhost:8080/",
          "height": 204
        }
      },
      "source": [
        "# Testing\n",
        "print(\"Predicted Songs:\", epic_predictor(404))\n",
        "features = feature_average(404)\n",
        "print(\"--------------------\")\n",
        "print(\"Averages:\")\n",
        "print(\"acousticness\", features[0])\n",
        "print(\"danceability\", features[1])\n",
        "print(\"energy\", features[2])\n",
        "print(\"instrumentalness\", features[3])\n",
        "print(\"liveness\", features[4])\n",
        "print(\"mode\", features[5])\n",
        "print(\"speechiness\", features[6])\n",
        "print(\"valence\", features[7])"
      ],
      "execution_count": 0,
      "outputs": [
        {
          "output_type": "stream",
          "text": [
            "Predicted Songs: [188, 189, 523, 3620, 3629, 7391, 9348, 9803, 9897, 9941]\n",
            "--------------------\n",
            "Averages:\n",
            "acousticness 0.35\n",
            "danceability 0.56\n",
            "energy 0.59\n",
            "instrumentalness 0.11\n",
            "liveness 0.17\n",
            "mode 0.6\n",
            "speechiness 0.12\n",
            "valence 0.35\n"
          ],
          "name": "stdout"
        }
      ]
    },
    {
      "cell_type": "markdown",
      "metadata": {
        "id": "J7qOkqbBGTka",
        "colab_type": "text"
      },
      "source": [
        "# Cosine Simiarity Model"
      ]
    },
    {
      "cell_type": "code",
      "metadata": {
        "id": "zmZOnvZGGcZP",
        "colab_type": "code",
        "colab": {}
      },
      "source": [
        "df = data.copy()\n",
        "dictionary = df[[\"artist_name\", \"track_name\", \"track_key\"]]\n",
        "df = df.drop(columns=['artist_name','track_id', 'track_name','track_key'])\n",
        "\n",
        "# Scale data\n",
        "scaler = MinMaxScaler()\n",
        "df_s = scaler.fit_transform(df)"
      ],
      "execution_count": 0,
      "outputs": []
    },
    {
      "cell_type": "code",
      "metadata": {
        "id": "WHk2Grr3DtRN",
        "colab_type": "code",
        "outputId": "c1ee7f0a-a032-4136-c24d-3d969032ed00",
        "colab": {
          "base_uri": "https://localhost:8080/",
          "height": 85
        }
      },
      "source": [
        "data.iloc[622][0:3]"
      ],
      "execution_count": 0,
      "outputs": [
        {
          "output_type": "execute_result",
          "data": {
            "text/plain": [
              "artist_name                                       Maroon 5\n",
              "track_id                            2Fs5Tk06RWbDIBOPtOxTUD\n",
              "track_name     Girls Like You (feat. Cardi B) - CRAY Remix\n",
              "Name: 622, dtype: object"
            ]
          },
          "metadata": {
            "tags": []
          },
          "execution_count": 80
        }
      ]
    },
    {
      "cell_type": "code",
      "metadata": {
        "id": "U5bQPWbmGcV-",
        "colab_type": "code",
        "colab": {}
      },
      "source": [
        "# Cosign Similarity\n",
        "# song by index value\n",
        "matrix = cosine_similarity(df_s, df_s[622:623] )\n",
        "matrix = pd.DataFrame(matrix)\n",
        "#matrix #shape(130663, 1)\n"
      ],
      "execution_count": 0,
      "outputs": []
    },
    {
      "cell_type": "code",
      "metadata": {
        "id": "aX952gzvRE9o",
        "colab_type": "code",
        "outputId": "c1ef2c49-689b-4fb4-97ba-a35ae582125b",
        "colab": {
          "base_uri": "https://localhost:8080/",
          "height": 119
        }
      },
      "source": [
        "matrix[0].sort_values(ascending=False)[:5]\n",
        "#matrix[matrix[0] < 1][0].sort_values(ascending=False)[:5]"
      ],
      "execution_count": 0,
      "outputs": [
        {
          "output_type": "execute_result",
          "data": {
            "text/plain": [
              "622       1.000000\n",
              "114004    0.997176\n",
              "620       0.997137\n",
              "94021     0.996651\n",
              "85183     0.996319\n",
              "Name: 0, dtype: float64"
            ]
          },
          "metadata": {
            "tags": []
          },
          "execution_count": 82
        }
      ]
    },
    {
      "cell_type": "code",
      "metadata": {
        "id": "tZybHUQcMufp",
        "colab_type": "code",
        "outputId": "488fc192-d0f0-46a5-e6ce-312e6abd99da",
        "colab": {
          "base_uri": "https://localhost:8080/",
          "height": 272
        }
      },
      "source": [
        "top3 = matrix[matrix[0] < 1][0].sort_values(ascending=False)[:3]\n",
        "top3\n",
        "# Print Playlist\n",
        "z = top3.reset_index()\n",
        "for col in z[\"index\"]:\n",
        "  print(dictionary.iloc[col])\n",
        "  print(\"---------\")"
      ],
      "execution_count": 0,
      "outputs": [
        {
          "output_type": "stream",
          "text": [
            "artist_name                      Kiiara\n",
            "track_name     I Don't Wanna Be Friends\n",
            "track_key                        113917\n",
            "Name: 114004, dtype: object\n",
            "---------\n",
            "artist_name    Jevon\n",
            "track_name     Judas\n",
            "track_key        621\n",
            "Name: 620, dtype: object\n",
            "---------\n",
            "artist_name                                        24hrs\n",
            "track_name     NEW GUY (feat. Rossi Rock, Casey Veggies)\n",
            "track_key                                          94005\n",
            "Name: 94021, dtype: object\n",
            "---------\n"
          ],
          "name": "stdout"
        }
      ]
    },
    {
      "cell_type": "code",
      "metadata": {
        "id": "H8ckKmZ8MXfq",
        "colab_type": "code",
        "colab": {}
      },
      "source": [
        "def epic_predictor(input_track_key):\n",
        "  '''\n",
        "  This function takes in a 'track_key' which is a number from 0 to 130,000 something.\n",
        "  The function returns a list of three numbers that are the \"track_key\"s of the\n",
        "  dataframe imported above.\n",
        "  '''\n",
        "# Cosign Similarity\n",
        "  matrix = cosine_similarity(df_s, df_s[input_track_key:(input_track_key + 1)])\n",
        "  \n",
        "  matrix = cosine_similarity(df_s, df_s[622:623] )\n",
        "  matrix = pd.DataFrame(matrix)\n",
        "  top3 = matrix[matrix[0] < 1][0].sort_values(ascending=False)[:3]\n",
        "  # Print Playlist\n",
        "  z = top3.reset_index()\n",
        "  three_similar_tracks = []\n",
        "\n",
        "  for col in z[\"index\"]:\n",
        "    track = (dictionary['track_key'].iloc[col])\n",
        "    three_similar_tracks.append(track)\n",
        "\n",
        "  return three_similar_tracks\n",
        "\n",
        "\n",
        "def feature_average(input_track_key):\n",
        "  '''\n",
        "  This function returns the average of the features for the ten recommended songs.\n",
        "  '''\n",
        "  three_similar_tracks = epic_predictor(input_track_key)\n",
        "  # Return a dataframe with only the ten most similar tracks\n",
        "  three_similar_tracks = data[data[\"track_key\"].isin(three_similar_tracks)]\n",
        "  three_similar_tracks = three_similar_tracks[['acousticness', 'danceability', \n",
        "                                           'energy', 'instrumentalness', \n",
        "                                           'liveness', 'mode', \n",
        "                                           'speechiness', 'valence']]\n",
        "  # Average features of ten tracks                                           \n",
        "  acousticness = round(three_similar_tracks['acousticness'].mean(),2)\n",
        "  danceability = round(three_similar_tracks['danceability'].mean(),2)\n",
        "  energy = round(three_similar_tracks['energy'].mean(),2)\n",
        "  instrumentalness = round(three_similar_tracks['instrumentalness'].mean(),2)\n",
        "  liveness = round(three_similar_tracks['liveness'].mean(),2)\n",
        "  mode = round(three_similar_tracks['mode'].mean(),2)\n",
        "  speechiness = round(three_similar_tracks['speechiness'].mean(),2)\n",
        "  valence = round(three_similar_tracks['valence'].mean(),2)\n",
        "  # Store all to \"features\" variable\n",
        "  features = []\n",
        "  attributes = [acousticness, danceability, energy, instrumentalness, liveness, mode, speechiness, valence]\n",
        "  #features.append(acousticness)\n",
        "  for attribute in attributes:\n",
        "    features.append(attribute)\n",
        "  return features"
      ],
      "execution_count": 0,
      "outputs": []
    },
    {
      "cell_type": "code",
      "metadata": {
        "id": "pFGdjnM2PGsp",
        "colab_type": "code",
        "outputId": "11bffa86-05ef-4041-baeb-de5220b6dc00",
        "colab": {
          "base_uri": "https://localhost:8080/",
          "height": 51
        }
      },
      "source": [
        "# Test\n",
        "print(\"Predicted Song Track_keys:\", epic_predictor(622))\n",
        "print(\"Average Features:\", feature_average(622))"
      ],
      "execution_count": 0,
      "outputs": [
        {
          "output_type": "stream",
          "text": [
            "Predicted Song Track_keys: [113917, 621, 94005]\n",
            "Average Features: [0.18, 0.83, 0.65, 0.0, 0.11, 0.0, 0.07, 0.39]\n"
          ],
          "name": "stdout"
        }
      ]
    },
    {
      "cell_type": "code",
      "metadata": {
        "id": "dtymTuh4KgT9",
        "colab_type": "code",
        "outputId": "6bac72a0-334b-44f8-ce8b-f875055392f9",
        "colab": {
          "base_uri": "https://localhost:8080/",
          "height": 295
        }
      },
      "source": [
        "# Simple Bar Chart\n",
        "fig, ax = plt.subplots()\n",
        "# data\n",
        "features = ('acousticness', 'danceability', 'energy', 'instrumentalness',\n",
        "          'liveness', 'mode','speechiness', 'valence')\n",
        "y_pos = np.arange(len(features))\n",
        "performance = feature_average(622)\n",
        "ax.barh(y_pos, performance, align='center')\n",
        "ax.set_yticks(y_pos)\n",
        "ax.set_yticklabels(features)\n",
        "ax.invert_yaxis()  # labels read top-to-bottom\n",
        "ax.set_xlabel('Preference')\n",
        "ax.set_title('How do you like your music?')\n",
        "plt.show()"
      ],
      "execution_count": 0,
      "outputs": [
        {
          "output_type": "display_data",
          "data": {
            "image/png": "[encoded data removed]",
            "text/plain": [
              "<Figure size 432x288 with 1 Axes>"
            ]
          },
          "metadata": {
            "tags": [],
            "needs_background": "light"
          }
        }
      ]
    },
    {
      "cell_type": "markdown",
      "metadata": {
        "id": "zY-hZlAIGUo-",
        "colab_type": "text"
      },
      "source": [
        "# Nearest Neighbor Model"
      ]
    },
    {
      "cell_type": "code",
      "metadata": {
        "id": "3hIwB4D1GdYV",
        "colab_type": "code",
        "colab": {}
      },
      "source": [
        "df = data.copy()\n",
        "dictionary = df[[\"artist_name\", \"track_name\", \"track_key\", \"track_id\"]]\n",
        "# Drop\n",
        "df = df.drop(columns=['artist_name','track_id', 'track_name','track_key', 'duration_ms', 'mode', 'loudness', 'time_signature'])\n",
        "\n",
        "# Scale the data\n",
        "scaler = StandardScaler()\n",
        "df_s = scaler.fit_transform(df)"
      ],
      "execution_count": 0,
      "outputs": []
    },
    {
      "cell_type": "code",
      "metadata": {
        "id": "pQeRpxmGI3oK",
        "colab_type": "code",
        "colab": {}
      },
      "source": [
        "def epic_predictor(input_track_key):\n",
        "  '''\n",
        "  This function takes in a 'track_key' of a song in the dataframe imported\n",
        "  above, which is a number from 0 to 130,000 something.\n",
        "\n",
        "  The function returns a list of ten hashes that are the \"track_id\"s of most\n",
        "  closely related songs in the dataframe imported above.\n",
        "  -------\n",
        "  For example, your function will look like this for Britney Spears' \"Toxic\":\n",
        "  > input:\n",
        "  toxic_track_key = 119347\n",
        "  epic_predictor(toxic_track_key) \n",
        "  >output:\n",
        "  >>>['4fbaKWFRghusXd4bSBvvfN',\n",
        "  >>>'5cesclKWAhsCcZJDBhkWaa',\n",
        "  >>> '7IE8eERSpTC9Jaw3arl99B',\n",
        "  >>> '6MLvUL2dYphJTwgiBvuJ1J',\n",
        "  >>> '4RYtaqxjDJUOY2GrtkLTFf',\n",
        "  >>> '6gJ1T7THE0Pxk5VpTovwJH',\n",
        "  >>> '7hiFcSUWRVotWd2pxhRIDJ',\n",
        "  >>> '6flP4UZGozZGQk8rpE09g4',\n",
        "  >>> '4uLmKWOb8hl49MYYAc4bnn',\n",
        "  >>> '39Z6LCw3UEFYjQivDV1UF1']\n",
        "\n",
        "  '''\n",
        "  ## Convert \"input_track_key\" to the index of the song (the song's position\n",
        "  ## in the dataframe).\n",
        "  input_dictionary_entry = dictionary[dictionary['track_key']==input_track_key]\n",
        "  input_index = input_dictionary_entry.index[0]\n",
        "\n",
        "  ## Nearest Neighbors model\n",
        "  nn = NearestNeighbors(n_neighbors=10, algorithm='kd_tree')\n",
        "  nn.fit(df_s)\n",
        "\n",
        "  neighbor_predictions = nn.kneighbors([df_s[input_index]])\n",
        "\n",
        "  ## This is a list of the INDEXES of the songs\n",
        "  list_of_predictions = neighbor_predictions[1][0].tolist()\n",
        "\n",
        "  ten_similar_tracks = []\n",
        "  for item in list_of_predictions:\n",
        "    track_hash = dictionary['track_id'].iloc[item]\n",
        "    ten_similar_tracks.append(track_hash)\n",
        "\n",
        "  return ten_similar_tracks\n",
        "\n",
        "##################################################################\n",
        "\n",
        "def feature_average(input_track_key):\n",
        "  '''\n",
        "  This function returns the average of the features for the ten recommended songs.\n",
        "  '''\n",
        "  ten_similar_tracks = epic_predictor(input_track_key)\n",
        "  # Return a dataframe with only the ten most similar tracks\n",
        "  ten_similar_tracks = data[data[\"track_id\"].isin(ten_similar_tracks)]\n",
        "  ten_similar_tracks = ten_similar_tracks[['acousticness', 'danceability', \n",
        "                                           'energy', 'instrumentalness', \n",
        "                                           'liveness', 'mode', \n",
        "                                           'speechiness', 'valence']]\n",
        "  # Average features of ten tracks                                           \n",
        "  acousticness = round(ten_similar_tracks['acousticness'].mean(),2)\n",
        "  danceability = round(ten_similar_tracks['danceability'].mean(),2)\n",
        "  energy = round(ten_similar_tracks['energy'].mean(),2)\n",
        "  instrumentalness = round(ten_similar_tracks['instrumentalness'].mean(),2)\n",
        "  liveness = round(ten_similar_tracks['liveness'].mean(),2)\n",
        "  mode = round(ten_similar_tracks['mode'].mean(),2)\n",
        "  speechiness = round(ten_similar_tracks['speechiness'].mean(),2)\n",
        "  valence = round(ten_similar_tracks['valence'].mean(),2)\n",
        "  # Store all to \"features\" variable\n",
        "  features = []\n",
        "  attributes = [acousticness, danceability, energy, instrumentalness, liveness, mode, speechiness, valence]\n",
        "  #features.append(acousticness)\n",
        "  for attribute in attributes:\n",
        "    features.append(attribute)\n",
        "  return features "
      ],
      "execution_count": 0,
      "outputs": []
    },
    {
      "cell_type": "code",
      "metadata": {
        "id": "ya9Ur8VCI3lD",
        "colab_type": "code",
        "outputId": "1d9d4b4d-db52-450c-b658-f5345da4830b",
        "colab": {
          "base_uri": "https://localhost:8080/",
          "height": 71
        }
      },
      "source": [
        "# Testing\n",
        "track_key = 622\n",
        "print(epic_predictor(track_key))\n",
        "print(feature_average(track_key))"
      ],
      "execution_count": 0,
      "outputs": [
        {
          "output_type": "stream",
          "text": [
            "['3mvYQKm8h6M5K5h0nVPY9S', '3mvYQKm8h6M5K5h0nVPY9S', '2bSk87AVkCIIC3Bcligq1z', '7MjaU5iFujwT1gOyvJnqNp', '14FwKi5Lh5HRXeo6VNXlaN', '1ry2SRTPT0w0FvdRtvr64K', '2gXOzCwbVXACCaYRj4Qrep', '3nYGWwvtwNM5OKR3meujcm', '40wyhIkaVvuZUAbAiTOkHI', '5GsDw8rD0LJ9XF4dEzUPDK']\n",
            "[0.07, 0.73, 0.49, 0.0, 0.12, 0.7, 0.18, 0.3]\n"
          ],
          "name": "stdout"
        }
      ]
    },
    {
      "cell_type": "code",
      "metadata": {
        "id": "_Ln14jXLI3gO",
        "colab_type": "code",
        "outputId": "50852cd3-e03b-4358-f386-e4a82dcfb2cb",
        "colab": {
          "base_uri": "https://localhost:8080/",
          "height": 136
        }
      },
      "source": [
        "## You can use this to print out the artist name and track name of the list of hashes generated.\n",
        "print(dictionary[dictionary['track_id']=='3mvYQKm8h6M5K5h0nVPY9S'])\n",
        "print(dictionary[dictionary['track_id']=='2bSk87AVkCIIC3Bcligq1z'])"
      ],
      "execution_count": 0,
      "outputs": [
        {
          "output_type": "stream",
          "text": [
            "       artist_name  ...                track_id\n",
            "621          Drake  ...  3mvYQKm8h6M5K5h0nVPY9S\n",
            "124538       Drake  ...  3mvYQKm8h6M5K5h0nVPY9S\n",
            "\n",
            "[2 rows x 4 columns]\n",
            "       artist_name    track_name  track_key                track_id\n",
            "119106    Lil Baby  Life Goes On     118969  2bSk87AVkCIIC3Bcligq1z\n"
          ],
          "name": "stdout"
        }
      ]
    },
    {
      "cell_type": "code",
      "metadata": {
        "id": "Yn_xDjDqLSvR",
        "colab_type": "code",
        "outputId": "42476aea-65e2-4107-98ea-6910525b05ce",
        "colab": {
          "base_uri": "https://localhost:8080/",
          "height": 542
        }
      },
      "source": [
        "features_df = pd.DataFrame(dict(\n",
        "    r=feature_average(track_key),\n",
        "    theta=['acousticness', 'danceability', 'energy', 'instrumentalness',\n",
        "          'liveness', 'mode','speechiness', 'valence']))\n",
        "fig = px.line_polar(features_df, r='r', theta='theta', line_close=True)\n",
        "fig.update_traces(fill='toself')\n",
        "fig.show()"
      ],
      "execution_count": 0,
      "outputs": [
        {
          "output_type": "display_data",
          "data": {
            "text/html": [
              "<html>\n",
              "<head><meta charset=\"utf-8\" /></head>\n",
              "<body>\n",
              "    <div>\n",
              "            <script src=\"https://cdnjs.cloudflare.com/ajax/libs/mathjax/2.7.5/MathJax.js?config=TeX-AMS-MML_SVG\"></script><script type=\"text/javascript\">if (window.MathJax) {MathJax.Hub.Config({SVG: {font: \"STIX-Web\"}});}</script>\n",
              "                <script type=\"text/javascript\">window.PlotlyConfig = {MathJaxConfig: 'local'};</script>\n",
              "        <script src=\"https://cdn.plot.ly/plotly-latest.min.js\"></script>    \n",
              "            <div id=\"d2826de9-358f-481a-87ff-7b3b64af71ef\" class=\"plotly-graph-div\" style=\"height:525px; width:100%;\"></div>\n",
              "            <script type=\"text/javascript\">\n",
              "                \n",
              "                    window.PLOTLYENV=window.PLOTLYENV || {};\n",
              "                    \n",
              "                if (document.getElementById(\"d2826de9-358f-481a-87ff-7b3b64af71ef\")) {\n",
              "                    Plotly.newPlot(\n",
              "                        'd2826de9-358f-481a-87ff-7b3b64af71ef',\n",
              "                        [{\"fill\": \"toself\", \"hoverlabel\": {\"namelength\": 0}, \"hovertemplate\": \"r=%{r}<br>theta=%{theta}\", \"legendgroup\": \"\", \"line\": {\"color\": \"#636efa\", \"dash\": \"solid\"}, \"mode\": \"lines\", \"name\": \"\", \"r\": [0.07, 0.73, 0.49, 0.0, 0.12, 0.7, 0.18, 0.3, 0.07], \"showlegend\": false, \"subplot\": \"polar\", \"theta\": [\"acousticness\", \"danceability\", \"energy\", \"instrumentalness\", \"liveness\", \"mode\", \"speechiness\", \"valence\", \"acousticness\"], \"type\": \"scatterpolar\"}],\n",
              "                        {\"legend\": {\"tracegroupgap\": 0}, \"margin\": {\"t\": 60}, \"polar\": {\"angularaxis\": {\"direction\": \"clockwise\", \"rotation\": 90}, \"domain\": {\"x\": [0.0, 1.0], \"y\": [0.0, 1.0]}}, \"template\": {\"data\": {\"bar\": [{\"error_x\": {\"color\": \"#2a3f5f\"}, \"error_y\": {\"color\": \"#2a3f5f\"}, \"marker\": {\"line\": {\"color\": \"#E5ECF6\", \"width\": 0.5}}, \"type\": \"bar\"}], \"barpolar\": [{\"marker\": {\"line\": {\"color\": \"#E5ECF6\", \"width\": 0.5}}, \"type\": \"barpolar\"}], \"carpet\": [{\"aaxis\": {\"endlinecolor\": \"#2a3f5f\", \"gridcolor\": \"white\", \"linecolor\": \"white\", \"minorgridcolor\": \"white\", \"startlinecolor\": \"#2a3f5f\"}, \"baxis\": {\"endlinecolor\": \"#2a3f5f\", \"gridcolor\": \"white\", \"linecolor\": \"white\", \"minorgridcolor\": \"white\", \"startlinecolor\": \"#2a3f5f\"}, \"type\": \"carpet\"}], \"choropleth\": [{\"colorbar\": {\"outlinewidth\": 0, \"ticks\": \"\"}, \"type\": \"choropleth\"}], \"contour\": [{\"colorbar\": {\"outlinewidth\": 0, \"ticks\": \"\"}, \"colorscale\": [[0.0, \"#0d0887\"], [0.1111111111111111, \"#46039f\"], [0.2222222222222222, \"#7201a8\"], [0.3333333333333333, \"#9c179e\"], [0.4444444444444444, \"#bd3786\"], [0.5555555555555556, \"#d8576b\"], [0.6666666666666666, \"#ed7953\"], [0.7777777777777778, \"#fb9f3a\"], [0.8888888888888888, \"#fdca26\"], [1.0, \"#f0f921\"]], \"type\": \"contour\"}], \"contourcarpet\": [{\"colorbar\": {\"outlinewidth\": 0, \"ticks\": \"\"}, \"type\": \"contourcarpet\"}], \"heatmap\": [{\"colorbar\": {\"outlinewidth\": 0, \"ticks\": \"\"}, \"colorscale\": [[0.0, \"#0d0887\"], [0.1111111111111111, \"#46039f\"], [0.2222222222222222, \"#7201a8\"], [0.3333333333333333, \"#9c179e\"], [0.4444444444444444, \"#bd3786\"], [0.5555555555555556, \"#d8576b\"], [0.6666666666666666, \"#ed7953\"], [0.7777777777777778, \"#fb9f3a\"], [0.8888888888888888, \"#fdca26\"], [1.0, \"#f0f921\"]], \"type\": \"heatmap\"}], \"heatmapgl\": [{\"colorbar\": {\"outlinewidth\": 0, \"ticks\": \"\"}, \"colorscale\": [[0.0, \"#0d0887\"], [0.1111111111111111, \"#46039f\"], [0.2222222222222222, \"#7201a8\"], [0.3333333333333333, \"#9c179e\"], [0.4444444444444444, \"#bd3786\"], [0.5555555555555556, \"#d8576b\"], [0.6666666666666666, \"#ed7953\"], [0.7777777777777778, \"#fb9f3a\"], [0.8888888888888888, \"#fdca26\"], [1.0, \"#f0f921\"]], \"type\": \"heatmapgl\"}], \"histogram\": [{\"marker\": {\"colorbar\": {\"outlinewidth\": 0, \"ticks\": \"\"}}, \"type\": \"histogram\"}], \"histogram2d\": [{\"colorbar\": {\"outlinewidth\": 0, \"ticks\": \"\"}, \"colorscale\": [[0.0, \"#0d0887\"], [0.1111111111111111, \"#46039f\"], [0.2222222222222222, \"#7201a8\"], [0.3333333333333333, \"#9c179e\"], [0.4444444444444444, \"#bd3786\"], [0.5555555555555556, \"#d8576b\"], [0.6666666666666666, \"#ed7953\"], [0.7777777777777778, \"#fb9f3a\"], [0.8888888888888888, \"#fdca26\"], [1.0, \"#f0f921\"]], \"type\": \"histogram2d\"}], \"histogram2dcontour\": [{\"colorbar\": {\"outlinewidth\": 0, \"ticks\": \"\"}, \"colorscale\": [[0.0, \"#0d0887\"], [0.1111111111111111, \"#46039f\"], [0.2222222222222222, \"#7201a8\"], [0.3333333333333333, \"#9c179e\"], [0.4444444444444444, \"#bd3786\"], [0.5555555555555556, \"#d8576b\"], [0.6666666666666666, \"#ed7953\"], [0.7777777777777778, \"#fb9f3a\"], [0.8888888888888888, \"#fdca26\"], [1.0, \"#f0f921\"]], \"type\": \"histogram2dcontour\"}], \"mesh3d\": [{\"colorbar\": {\"outlinewidth\": 0, \"ticks\": \"\"}, \"type\": \"mesh3d\"}], \"parcoords\": [{\"line\": {\"colorbar\": {\"outlinewidth\": 0, \"ticks\": \"\"}}, \"type\": \"parcoords\"}], \"pie\": [{\"automargin\": true, \"type\": \"pie\"}], \"scatter\": [{\"marker\": {\"colorbar\": {\"outlinewidth\": 0, \"ticks\": \"\"}}, \"type\": \"scatter\"}], \"scatter3d\": [{\"line\": {\"colorbar\": {\"outlinewidth\": 0, \"ticks\": \"\"}}, \"marker\": {\"colorbar\": {\"outlinewidth\": 0, \"ticks\": \"\"}}, \"type\": \"scatter3d\"}], \"scattercarpet\": [{\"marker\": {\"colorbar\": {\"outlinewidth\": 0, \"ticks\": \"\"}}, \"type\": \"scattercarpet\"}], \"scattergeo\": [{\"marker\": {\"colorbar\": {\"outlinewidth\": 0, \"ticks\": \"\"}}, \"type\": \"scattergeo\"}], \"scattergl\": [{\"marker\": {\"colorbar\": {\"outlinewidth\": 0, \"ticks\": \"\"}}, \"type\": \"scattergl\"}], \"scattermapbox\": [{\"marker\": {\"colorbar\": {\"outlinewidth\": 0, \"ticks\": \"\"}}, \"type\": \"scattermapbox\"}], \"scatterpolar\": [{\"marker\": {\"colorbar\": {\"outlinewidth\": 0, \"ticks\": \"\"}}, \"type\": \"scatterpolar\"}], \"scatterpolargl\": [{\"marker\": {\"colorbar\": {\"outlinewidth\": 0, \"ticks\": \"\"}}, \"type\": \"scatterpolargl\"}], \"scatterternary\": [{\"marker\": {\"colorbar\": {\"outlinewidth\": 0, \"ticks\": \"\"}}, \"type\": \"scatterternary\"}], \"surface\": [{\"colorbar\": {\"outlinewidth\": 0, \"ticks\": \"\"}, \"colorscale\": [[0.0, \"#0d0887\"], [0.1111111111111111, \"#46039f\"], [0.2222222222222222, \"#7201a8\"], [0.3333333333333333, \"#9c179e\"], [0.4444444444444444, \"#bd3786\"], [0.5555555555555556, \"#d8576b\"], [0.6666666666666666, \"#ed7953\"], [0.7777777777777778, \"#fb9f3a\"], [0.8888888888888888, \"#fdca26\"], [1.0, \"#f0f921\"]], \"type\": \"surface\"}], \"table\": [{\"cells\": {\"fill\": {\"color\": \"#EBF0F8\"}, \"line\": {\"color\": \"white\"}}, \"header\": {\"fill\": {\"color\": \"#C8D4E3\"}, \"line\": {\"color\": \"white\"}}, \"type\": \"table\"}]}, \"layout\": {\"annotationdefaults\": {\"arrowcolor\": \"#2a3f5f\", \"arrowhead\": 0, \"arrowwidth\": 1}, \"coloraxis\": {\"colorbar\": {\"outlinewidth\": 0, \"ticks\": \"\"}}, \"colorscale\": {\"diverging\": [[0, \"#8e0152\"], [0.1, \"#c51b7d\"], [0.2, \"#de77ae\"], [0.3, \"#f1b6da\"], [0.4, \"#fde0ef\"], [0.5, \"#f7f7f7\"], [0.6, \"#e6f5d0\"], [0.7, \"#b8e186\"], [0.8, \"#7fbc41\"], [0.9, \"#4d9221\"], [1, \"#276419\"]], \"sequential\": [[0.0, \"#0d0887\"], [0.1111111111111111, \"#46039f\"], [0.2222222222222222, \"#7201a8\"], [0.3333333333333333, \"#9c179e\"], [0.4444444444444444, \"#bd3786\"], [0.5555555555555556, \"#d8576b\"], [0.6666666666666666, \"#ed7953\"], [0.7777777777777778, \"#fb9f3a\"], [0.8888888888888888, \"#fdca26\"], [1.0, \"#f0f921\"]], \"sequentialminus\": [[0.0, \"#0d0887\"], [0.1111111111111111, \"#46039f\"], [0.2222222222222222, \"#7201a8\"], [0.3333333333333333, \"#9c179e\"], [0.4444444444444444, \"#bd3786\"], [0.5555555555555556, \"#d8576b\"], [0.6666666666666666, \"#ed7953\"], [0.7777777777777778, \"#fb9f3a\"], [0.8888888888888888, \"#fdca26\"], [1.0, \"#f0f921\"]]}, \"colorway\": [\"#636efa\", \"#EF553B\", \"#00cc96\", \"#ab63fa\", \"#FFA15A\", \"#19d3f3\", \"#FF6692\", \"#B6E880\", \"#FF97FF\", \"#FECB52\"], \"font\": {\"color\": \"#2a3f5f\"}, \"geo\": {\"bgcolor\": \"white\", \"lakecolor\": \"white\", \"landcolor\": \"#E5ECF6\", \"showlakes\": true, \"showland\": true, \"subunitcolor\": \"white\"}, \"hoverlabel\": {\"align\": \"left\"}, \"hovermode\": \"closest\", \"mapbox\": {\"style\": \"light\"}, \"paper_bgcolor\": \"white\", \"plot_bgcolor\": \"#E5ECF6\", \"polar\": {\"angularaxis\": {\"gridcolor\": \"white\", \"linecolor\": \"white\", \"ticks\": \"\"}, \"bgcolor\": \"#E5ECF6\", \"radialaxis\": {\"gridcolor\": \"white\", \"linecolor\": \"white\", \"ticks\": \"\"}}, \"scene\": {\"xaxis\": {\"backgroundcolor\": \"#E5ECF6\", \"gridcolor\": \"white\", \"gridwidth\": 2, \"linecolor\": \"white\", \"showbackground\": true, \"ticks\": \"\", \"zerolinecolor\": \"white\"}, \"yaxis\": {\"backgroundcolor\": \"#E5ECF6\", \"gridcolor\": \"white\", \"gridwidth\": 2, \"linecolor\": \"white\", \"showbackground\": true, \"ticks\": \"\", \"zerolinecolor\": \"white\"}, \"zaxis\": {\"backgroundcolor\": \"#E5ECF6\", \"gridcolor\": \"white\", \"gridwidth\": 2, \"linecolor\": \"white\", \"showbackground\": true, \"ticks\": \"\", \"zerolinecolor\": \"white\"}}, \"shapedefaults\": {\"line\": {\"color\": \"#2a3f5f\"}}, \"ternary\": {\"aaxis\": {\"gridcolor\": \"white\", \"linecolor\": \"white\", \"ticks\": \"\"}, \"baxis\": {\"gridcolor\": \"white\", \"linecolor\": \"white\", \"ticks\": \"\"}, \"bgcolor\": \"#E5ECF6\", \"caxis\": {\"gridcolor\": \"white\", \"linecolor\": \"white\", \"ticks\": \"\"}}, \"title\": {\"x\": 0.05}, \"xaxis\": {\"automargin\": true, \"gridcolor\": \"white\", \"linecolor\": \"white\", \"ticks\": \"\", \"title\": {\"standoff\": 15}, \"zerolinecolor\": \"white\", \"zerolinewidth\": 2}, \"yaxis\": {\"automargin\": true, \"gridcolor\": \"white\", \"linecolor\": \"white\", \"ticks\": \"\", \"title\": {\"standoff\": 15}, \"zerolinecolor\": \"white\", \"zerolinewidth\": 2}}}},\n",
              "                        {\"responsive\": true}\n",
              "                    ).then(function(){\n",
              "                            \n",
              "var gd = document.getElementById('d2826de9-358f-481a-87ff-7b3b64af71ef');\n",
              "var x = new MutationObserver(function (mutations, observer) {{\n",
              "        var display = window.getComputedStyle(gd).display;\n",
              "        if (!display || display === 'none') {{\n",
              "            console.log([gd, 'removed!']);\n",
              "            Plotly.purge(gd);\n",
              "            observer.disconnect();\n",
              "        }}\n",
              "}});\n",
              "\n",
              "// Listen for the removal of the full notebook cells\n",
              "var notebookContainer = gd.closest('#notebook-container');\n",
              "if (notebookContainer) {{\n",
              "    x.observe(notebookContainer, {childList: true});\n",
              "}}\n",
              "\n",
              "// Listen for the clearing of the current output cell\n",
              "var outputEl = gd.closest('.output');\n",
              "if (outputEl) {{\n",
              "    x.observe(outputEl, {childList: true});\n",
              "}}\n",
              "\n",
              "                        })\n",
              "                };\n",
              "                \n",
              "            </script>\n",
              "        </div>\n",
              "</body>\n",
              "</html>"
            ]
          },
          "metadata": {
            "tags": []
          }
        }
      ]
    },
    {
      "cell_type": "code",
      "metadata": {
        "id": "WyPTgDlWO0sT",
        "colab_type": "code",
        "outputId": "18c0f9b1-e745-41db-8c13-087af735a225",
        "colab": {
          "base_uri": "https://localhost:8080/",
          "height": 542
        }
      },
      "source": [
        "import plotly.graph_objects as go\n",
        "categories = ['acousticness', 'danceability', 'energy', 'instrumentalness',\n",
        "          'liveness', 'mode','speechiness', 'valence']\n",
        "\n",
        "fig = go.Figure()\n",
        "\n",
        "fig.add_trace(go.Scatterpolar(\n",
        "      r=feature_average(track_key),\n",
        "      theta=categories,\n",
        "      fill='toself',\n",
        "      name='Song A'\n",
        "))\n",
        "fig.add_trace(go.Scatterpolar(\n",
        "      r=feature_average(118969),\n",
        "      theta=categories,\n",
        "      fill='toself',\n",
        "      name='Song B'\n",
        "))\n",
        "\n",
        "fig.update_layout(\n",
        "  polar=dict(\n",
        "    radialaxis=dict(\n",
        "      visible=True,\n",
        "      range=[0, 1]\n",
        "    )),\n",
        "  showlegend=False\n",
        ")\n",
        "\n",
        "fig.show()"
      ],
      "execution_count": 0,
      "outputs": [
        {
          "output_type": "display_data",
          "data": {
            "text/html": [
              "<html>\n",
              "<head><meta charset=\"utf-8\" /></head>\n",
              "<body>\n",
              "    <div>\n",
              "            <script src=\"https://cdnjs.cloudflare.com/ajax/libs/mathjax/2.7.5/MathJax.js?config=TeX-AMS-MML_SVG\"></script><script type=\"text/javascript\">if (window.MathJax) {MathJax.Hub.Config({SVG: {font: \"STIX-Web\"}});}</script>\n",
              "                <script type=\"text/javascript\">window.PlotlyConfig = {MathJaxConfig: 'local'};</script>\n",
              "        <script src=\"https://cdn.plot.ly/plotly-latest.min.js\"></script>    \n",
              "            <div id=\"8e97c791-76e1-4fe5-ba79-136035c53672\" class=\"plotly-graph-div\" style=\"height:525px; width:100%;\"></div>\n",
              "            <script type=\"text/javascript\">\n",
              "                \n",
              "                    window.PLOTLYENV=window.PLOTLYENV || {};\n",
              "                    \n",
              "                if (document.getElementById(\"8e97c791-76e1-4fe5-ba79-136035c53672\")) {\n",
              "                    Plotly.newPlot(\n",
              "                        '8e97c791-76e1-4fe5-ba79-136035c53672',\n",
              "                        [{\"fill\": \"toself\", \"name\": \"Song A\", \"r\": [0.07, 0.73, 0.49, 0.0, 0.12, 0.7, 0.18, 0.3], \"theta\": [\"acousticness\", \"danceability\", \"energy\", \"instrumentalness\", \"liveness\", \"mode\", \"speechiness\", \"valence\"], \"type\": \"scatterpolar\"}, {\"fill\": \"toself\", \"name\": \"Song B\", \"r\": [0.05, 0.72, 0.53, 0.0, 0.12, 0.9, 0.14, 0.33], \"theta\": [\"acousticness\", \"danceability\", \"energy\", \"instrumentalness\", \"liveness\", \"mode\", \"speechiness\", \"valence\"], \"type\": \"scatterpolar\"}],\n",
              "                        {\"polar\": {\"radialaxis\": {\"range\": [0, 1], \"visible\": true}}, \"showlegend\": false, \"template\": {\"data\": {\"bar\": [{\"error_x\": {\"color\": \"#2a3f5f\"}, \"error_y\": {\"color\": \"#2a3f5f\"}, \"marker\": {\"line\": {\"color\": \"#E5ECF6\", \"width\": 0.5}}, \"type\": \"bar\"}], \"barpolar\": [{\"marker\": {\"line\": {\"color\": \"#E5ECF6\", \"width\": 0.5}}, \"type\": \"barpolar\"}], \"carpet\": [{\"aaxis\": {\"endlinecolor\": \"#2a3f5f\", \"gridcolor\": \"white\", \"linecolor\": \"white\", \"minorgridcolor\": \"white\", \"startlinecolor\": \"#2a3f5f\"}, \"baxis\": {\"endlinecolor\": \"#2a3f5f\", \"gridcolor\": \"white\", \"linecolor\": \"white\", \"minorgridcolor\": \"white\", \"startlinecolor\": \"#2a3f5f\"}, \"type\": \"carpet\"}], \"choropleth\": [{\"colorbar\": {\"outlinewidth\": 0, \"ticks\": \"\"}, \"type\": \"choropleth\"}], \"contour\": [{\"colorbar\": {\"outlinewidth\": 0, \"ticks\": \"\"}, \"colorscale\": [[0.0, \"#0d0887\"], [0.1111111111111111, \"#46039f\"], [0.2222222222222222, \"#7201a8\"], [0.3333333333333333, \"#9c179e\"], [0.4444444444444444, \"#bd3786\"], [0.5555555555555556, \"#d8576b\"], [0.6666666666666666, \"#ed7953\"], [0.7777777777777778, \"#fb9f3a\"], [0.8888888888888888, \"#fdca26\"], [1.0, \"#f0f921\"]], \"type\": \"contour\"}], \"contourcarpet\": [{\"colorbar\": {\"outlinewidth\": 0, \"ticks\": \"\"}, \"type\": \"contourcarpet\"}], \"heatmap\": [{\"colorbar\": {\"outlinewidth\": 0, \"ticks\": \"\"}, \"colorscale\": [[0.0, \"#0d0887\"], [0.1111111111111111, \"#46039f\"], [0.2222222222222222, \"#7201a8\"], [0.3333333333333333, \"#9c179e\"], [0.4444444444444444, \"#bd3786\"], [0.5555555555555556, \"#d8576b\"], [0.6666666666666666, \"#ed7953\"], [0.7777777777777778, \"#fb9f3a\"], [0.8888888888888888, \"#fdca26\"], [1.0, \"#f0f921\"]], \"type\": \"heatmap\"}], \"heatmapgl\": [{\"colorbar\": {\"outlinewidth\": 0, \"ticks\": \"\"}, \"colorscale\": [[0.0, \"#0d0887\"], [0.1111111111111111, \"#46039f\"], [0.2222222222222222, \"#7201a8\"], [0.3333333333333333, \"#9c179e\"], [0.4444444444444444, \"#bd3786\"], [0.5555555555555556, \"#d8576b\"], [0.6666666666666666, \"#ed7953\"], [0.7777777777777778, \"#fb9f3a\"], [0.8888888888888888, \"#fdca26\"], [1.0, \"#f0f921\"]], \"type\": \"heatmapgl\"}], \"histogram\": [{\"marker\": {\"colorbar\": {\"outlinewidth\": 0, \"ticks\": \"\"}}, \"type\": \"histogram\"}], \"histogram2d\": [{\"colorbar\": {\"outlinewidth\": 0, \"ticks\": \"\"}, \"colorscale\": [[0.0, \"#0d0887\"], [0.1111111111111111, \"#46039f\"], [0.2222222222222222, \"#7201a8\"], [0.3333333333333333, \"#9c179e\"], [0.4444444444444444, \"#bd3786\"], [0.5555555555555556, \"#d8576b\"], [0.6666666666666666, \"#ed7953\"], [0.7777777777777778, \"#fb9f3a\"], [0.8888888888888888, \"#fdca26\"], [1.0, \"#f0f921\"]], \"type\": \"histogram2d\"}], \"histogram2dcontour\": [{\"colorbar\": {\"outlinewidth\": 0, \"ticks\": \"\"}, \"colorscale\": [[0.0, \"#0d0887\"], [0.1111111111111111, \"#46039f\"], [0.2222222222222222, \"#7201a8\"], [0.3333333333333333, \"#9c179e\"], [0.4444444444444444, \"#bd3786\"], [0.5555555555555556, \"#d8576b\"], [0.6666666666666666, \"#ed7953\"], [0.7777777777777778, \"#fb9f3a\"], [0.8888888888888888, \"#fdca26\"], [1.0, \"#f0f921\"]], \"type\": \"histogram2dcontour\"}], \"mesh3d\": [{\"colorbar\": {\"outlinewidth\": 0, \"ticks\": \"\"}, \"type\": \"mesh3d\"}], \"parcoords\": [{\"line\": {\"colorbar\": {\"outlinewidth\": 0, \"ticks\": \"\"}}, \"type\": \"parcoords\"}], \"pie\": [{\"automargin\": true, \"type\": \"pie\"}], \"scatter\": [{\"marker\": {\"colorbar\": {\"outlinewidth\": 0, \"ticks\": \"\"}}, \"type\": \"scatter\"}], \"scatter3d\": [{\"line\": {\"colorbar\": {\"outlinewidth\": 0, \"ticks\": \"\"}}, \"marker\": {\"colorbar\": {\"outlinewidth\": 0, \"ticks\": \"\"}}, \"type\": \"scatter3d\"}], \"scattercarpet\": [{\"marker\": {\"colorbar\": {\"outlinewidth\": 0, \"ticks\": \"\"}}, \"type\": \"scattercarpet\"}], \"scattergeo\": [{\"marker\": {\"colorbar\": {\"outlinewidth\": 0, \"ticks\": \"\"}}, \"type\": \"scattergeo\"}], \"scattergl\": [{\"marker\": {\"colorbar\": {\"outlinewidth\": 0, \"ticks\": \"\"}}, \"type\": \"scattergl\"}], \"scattermapbox\": [{\"marker\": {\"colorbar\": {\"outlinewidth\": 0, \"ticks\": \"\"}}, \"type\": \"scattermapbox\"}], \"scatterpolar\": [{\"marker\": {\"colorbar\": {\"outlinewidth\": 0, \"ticks\": \"\"}}, \"type\": \"scatterpolar\"}], \"scatterpolargl\": [{\"marker\": {\"colorbar\": {\"outlinewidth\": 0, \"ticks\": \"\"}}, \"type\": \"scatterpolargl\"}], \"scatterternary\": [{\"marker\": {\"colorbar\": {\"outlinewidth\": 0, \"ticks\": \"\"}}, \"type\": \"scatterternary\"}], \"surface\": [{\"colorbar\": {\"outlinewidth\": 0, \"ticks\": \"\"}, \"colorscale\": [[0.0, \"#0d0887\"], [0.1111111111111111, \"#46039f\"], [0.2222222222222222, \"#7201a8\"], [0.3333333333333333, \"#9c179e\"], [0.4444444444444444, \"#bd3786\"], [0.5555555555555556, \"#d8576b\"], [0.6666666666666666, \"#ed7953\"], [0.7777777777777778, \"#fb9f3a\"], [0.8888888888888888, \"#fdca26\"], [1.0, \"#f0f921\"]], \"type\": \"surface\"}], \"table\": [{\"cells\": {\"fill\": {\"color\": \"#EBF0F8\"}, \"line\": {\"color\": \"white\"}}, \"header\": {\"fill\": {\"color\": \"#C8D4E3\"}, \"line\": {\"color\": \"white\"}}, \"type\": \"table\"}]}, \"layout\": {\"annotationdefaults\": {\"arrowcolor\": \"#2a3f5f\", \"arrowhead\": 0, \"arrowwidth\": 1}, \"coloraxis\": {\"colorbar\": {\"outlinewidth\": 0, \"ticks\": \"\"}}, \"colorscale\": {\"diverging\": [[0, \"#8e0152\"], [0.1, \"#c51b7d\"], [0.2, \"#de77ae\"], [0.3, \"#f1b6da\"], [0.4, \"#fde0ef\"], [0.5, \"#f7f7f7\"], [0.6, \"#e6f5d0\"], [0.7, \"#b8e186\"], [0.8, \"#7fbc41\"], [0.9, \"#4d9221\"], [1, \"#276419\"]], \"sequential\": [[0.0, \"#0d0887\"], [0.1111111111111111, \"#46039f\"], [0.2222222222222222, \"#7201a8\"], [0.3333333333333333, \"#9c179e\"], [0.4444444444444444, \"#bd3786\"], [0.5555555555555556, \"#d8576b\"], [0.6666666666666666, \"#ed7953\"], [0.7777777777777778, \"#fb9f3a\"], [0.8888888888888888, \"#fdca26\"], [1.0, \"#f0f921\"]], \"sequentialminus\": [[0.0, \"#0d0887\"], [0.1111111111111111, \"#46039f\"], [0.2222222222222222, \"#7201a8\"], [0.3333333333333333, \"#9c179e\"], [0.4444444444444444, \"#bd3786\"], [0.5555555555555556, \"#d8576b\"], [0.6666666666666666, \"#ed7953\"], [0.7777777777777778, \"#fb9f3a\"], [0.8888888888888888, \"#fdca26\"], [1.0, \"#f0f921\"]]}, \"colorway\": [\"#636efa\", \"#EF553B\", \"#00cc96\", \"#ab63fa\", \"#FFA15A\", \"#19d3f3\", \"#FF6692\", \"#B6E880\", \"#FF97FF\", \"#FECB52\"], \"font\": {\"color\": \"#2a3f5f\"}, \"geo\": {\"bgcolor\": \"white\", \"lakecolor\": \"white\", \"landcolor\": \"#E5ECF6\", \"showlakes\": true, \"showland\": true, \"subunitcolor\": \"white\"}, \"hoverlabel\": {\"align\": \"left\"}, \"hovermode\": \"closest\", \"mapbox\": {\"style\": \"light\"}, \"paper_bgcolor\": \"white\", \"plot_bgcolor\": \"#E5ECF6\", \"polar\": {\"angularaxis\": {\"gridcolor\": \"white\", \"linecolor\": \"white\", \"ticks\": \"\"}, \"bgcolor\": \"#E5ECF6\", \"radialaxis\": {\"gridcolor\": \"white\", \"linecolor\": \"white\", \"ticks\": \"\"}}, \"scene\": {\"xaxis\": {\"backgroundcolor\": \"#E5ECF6\", \"gridcolor\": \"white\", \"gridwidth\": 2, \"linecolor\": \"white\", \"showbackground\": true, \"ticks\": \"\", \"zerolinecolor\": \"white\"}, \"yaxis\": {\"backgroundcolor\": \"#E5ECF6\", \"gridcolor\": \"white\", \"gridwidth\": 2, \"linecolor\": \"white\", \"showbackground\": true, \"ticks\": \"\", \"zerolinecolor\": \"white\"}, \"zaxis\": {\"backgroundcolor\": \"#E5ECF6\", \"gridcolor\": \"white\", \"gridwidth\": 2, \"linecolor\": \"white\", \"showbackground\": true, \"ticks\": \"\", \"zerolinecolor\": \"white\"}}, \"shapedefaults\": {\"line\": {\"color\": \"#2a3f5f\"}}, \"ternary\": {\"aaxis\": {\"gridcolor\": \"white\", \"linecolor\": \"white\", \"ticks\": \"\"}, \"baxis\": {\"gridcolor\": \"white\", \"linecolor\": \"white\", \"ticks\": \"\"}, \"bgcolor\": \"#E5ECF6\", \"caxis\": {\"gridcolor\": \"white\", \"linecolor\": \"white\", \"ticks\": \"\"}}, \"title\": {\"x\": 0.05}, \"xaxis\": {\"automargin\": true, \"gridcolor\": \"white\", \"linecolor\": \"white\", \"ticks\": \"\", \"title\": {\"standoff\": 15}, \"zerolinecolor\": \"white\", \"zerolinewidth\": 2}, \"yaxis\": {\"automargin\": true, \"gridcolor\": \"white\", \"linecolor\": \"white\", \"ticks\": \"\", \"title\": {\"standoff\": 15}, \"zerolinecolor\": \"white\", \"zerolinewidth\": 2}}}},\n",
              "                        {\"responsive\": true}\n",
              "                    ).then(function(){\n",
              "                            \n",
              "var gd = document.getElementById('8e97c791-76e1-4fe5-ba79-136035c53672');\n",
              "var x = new MutationObserver(function (mutations, observer) {{\n",
              "        var display = window.getComputedStyle(gd).display;\n",
              "        if (!display || display === 'none') {{\n",
              "            console.log([gd, 'removed!']);\n",
              "            Plotly.purge(gd);\n",
              "            observer.disconnect();\n",
              "        }}\n",
              "}});\n",
              "\n",
              "// Listen for the removal of the full notebook cells\n",
              "var notebookContainer = gd.closest('#notebook-container');\n",
              "if (notebookContainer) {{\n",
              "    x.observe(notebookContainer, {childList: true});\n",
              "}}\n",
              "\n",
              "// Listen for the clearing of the current output cell\n",
              "var outputEl = gd.closest('.output');\n",
              "if (outputEl) {{\n",
              "    x.observe(outputEl, {childList: true});\n",
              "}}\n",
              "\n",
              "                        })\n",
              "                };\n",
              "                \n",
              "            </script>\n",
              "        </div>\n",
              "</body>\n",
              "</html>"
            ]
          },
          "metadata": {
            "tags": []
          }
        }
      ]
    }
  ]
}