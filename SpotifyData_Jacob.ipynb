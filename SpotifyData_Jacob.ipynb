{
  "nbformat": 4,
  "nbformat_minor": 0,
  "metadata": {
    "colab": {
      "name": "SpotifyData_Jacob.ipynb",
      "provenance": [],
      "collapsed_sections": []
    },
    "kernelspec": {
      "name": "python3",
      "display_name": "Python 3"
    },
    "accelerator": "GPU"
  },
  "cells": [
    {
      "cell_type": "markdown",
      "metadata": {
        "id": "1T0FCZODYR6E",
        "colab_type": "text"
      },
      "source": [
        "## *DEEPTUNES!*\n",
        "Spotify Recommendation Neural Network\n",
        "\n",
        "*Padgett, Jacob*  \n",
        "*Quinn, Avery*  \n",
        "*Strauffer-Norris, Will*  \n",
        "\n",
        "**GITHUB: https://github.com/Lambda-Spotify-Song-Suggester-3**"
      ]
    },
    {
      "cell_type": "code",
      "metadata": {
        "id": "OIi2tm5wrpIo",
        "colab_type": "code",
        "colab": {
          "base_uri": "https://localhost:8080/",
          "height": 34
        },
        "outputId": "87fb4c70-dee1-4c69-edd5-d0aa572a2fd4"
      },
      "source": [
        "from keras.models import Model\n",
        "import matplotlib.pyplot as plt\n",
        "import numpy as np\n",
        "import pandas as pd\n",
        "from sklearn.model_selection import train_test_split\n",
        "from sklearn.preprocessing import StandardScaler\n",
        "from tensorflow import keras\n",
        "from tensorflow.keras.datasets import mnist\n",
        "from tensorflow.keras.layers import Input, Embedding, Flatten, Dot, Dense, Concatenate, Dropout\n",
        "from tensorflow.keras.models import Sequential\n",
        "\n",
        "%matplotlib inline"
      ],
      "execution_count": 1,
      "outputs": [
        {
          "output_type": "stream",
          "text": [
            "Using TensorFlow backend.\n"
          ],
          "name": "stderr"
        }
      ]
    },
    {
      "cell_type": "code",
      "metadata": {
        "id": "12xzyXmosVFo",
        "colab_type": "code",
        "outputId": "c4b7e7ba-4e69-467e-e5a9-4259405e7a35",
        "colab": {
          "base_uri": "https://localhost:8080/",
          "height": 34
        }
      },
      "source": [
        "# Data from Nov2018\n",
        "# Not including the data here due to a plethora of duplicates and group decision\n",
        "# df18 = pd.read_csv('https://raw.githubusercontent.com/Lambda-Spotify-Song-Suggester-3/datascience/master/kaggle_data/SpotifyAudioFeaturesNov2018.csv')\n",
        "# print(f'df18 shape: {df18.shape}')\n",
        "\n",
        "# Data from Apr2019\n",
        "df19 = pd.read_csv('https://raw.githubusercontent.com/Lambda-Spotify-Song-Suggester-3/datascience/master/kaggle_data/SpotifyAudioFeaturesApril2019.csv')\n",
        "print(f'df19 shape: {df19.shape}')"
      ],
      "execution_count": 2,
      "outputs": [
        {
          "output_type": "stream",
          "text": [
            "df19 shape: (130663, 17)\n"
          ],
          "name": "stdout"
        }
      ]
    },
    {
      "cell_type": "code",
      "metadata": {
        "id": "u-JBfJWDst3K",
        "colab_type": "code",
        "colab": {}
      },
      "source": [
        "# Columns arde the same\n",
        "# df18.columns == df19.columns # Not using both datasets (see import cell above)"
      ],
      "execution_count": 0,
      "outputs": []
    },
    {
      "cell_type": "code",
      "metadata": {
        "id": "vYz6alQRrJmL",
        "colab_type": "code",
        "colab": {}
      },
      "source": [
        "# Concat data together\n",
        "# df = pd.concat([df18, df19]) # Not using both datasets (see import cell above)\n",
        "# print(df.shape) # Not using both datasets (see import cell above)"
      ],
      "execution_count": 0,
      "outputs": []
    },
    {
      "cell_type": "code",
      "metadata": {
        "id": "Q1GmTy2nMYWq",
        "colab_type": "code",
        "colab": {}
      },
      "source": [
        "# Rename df19 because we're not using the df18\n",
        "df = df19.copy()"
      ],
      "execution_count": 0,
      "outputs": []
    },
    {
      "cell_type": "code",
      "metadata": {
        "id": "fuDecQDDOEsx",
        "colab_type": "code",
        "outputId": "dcf5d342-cee9-42de-eeef-8ef73e022e5e",
        "colab": {
          "base_uri": "https://localhost:8080/",
          "height": 164
        }
      },
      "source": [
        "# View head\n",
        "df.head(1)"
      ],
      "execution_count": 6,
      "outputs": [
        {
          "output_type": "execute_result",
          "data": {
            "text/html": [
              "<div>\n",
              "<style scoped>\n",
              "    .dataframe tbody tr th:only-of-type {\n",
              "        vertical-align: middle;\n",
              "    }\n",
              "\n",
              "    .dataframe tbody tr th {\n",
              "        vertical-align: top;\n",
              "    }\n",
              "\n",
              "    .dataframe thead th {\n",
              "        text-align: right;\n",
              "    }\n",
              "</style>\n",
              "<table border=\"1\" class=\"dataframe\">\n",
              "  <thead>\n",
              "    <tr style=\"text-align: right;\">\n",
              "      <th></th>\n",
              "      <th>artist_name</th>\n",
              "      <th>track_id</th>\n",
              "      <th>track_name</th>\n",
              "      <th>acousticness</th>\n",
              "      <th>danceability</th>\n",
              "      <th>duration_ms</th>\n",
              "      <th>energy</th>\n",
              "      <th>instrumentalness</th>\n",
              "      <th>key</th>\n",
              "      <th>liveness</th>\n",
              "      <th>loudness</th>\n",
              "      <th>mode</th>\n",
              "      <th>speechiness</th>\n",
              "      <th>tempo</th>\n",
              "      <th>time_signature</th>\n",
              "      <th>valence</th>\n",
              "      <th>popularity</th>\n",
              "    </tr>\n",
              "  </thead>\n",
              "  <tbody>\n",
              "    <tr>\n",
              "      <th>0</th>\n",
              "      <td>YG</td>\n",
              "      <td>2RM4jf1Xa9zPgMGRDiht8O</td>\n",
              "      <td>Big Bank feat. 2 Chainz, Big Sean, Nicki Minaj</td>\n",
              "      <td>0.00582</td>\n",
              "      <td>0.743</td>\n",
              "      <td>238373</td>\n",
              "      <td>0.339</td>\n",
              "      <td>0.0</td>\n",
              "      <td>1</td>\n",
              "      <td>0.0812</td>\n",
              "      <td>-7.678</td>\n",
              "      <td>1</td>\n",
              "      <td>0.409</td>\n",
              "      <td>203.927</td>\n",
              "      <td>4</td>\n",
              "      <td>0.118</td>\n",
              "      <td>15</td>\n",
              "    </tr>\n",
              "  </tbody>\n",
              "</table>\n",
              "</div>"
            ],
            "text/plain": [
              "  artist_name                track_id  ... valence  popularity\n",
              "0          YG  2RM4jf1Xa9zPgMGRDiht8O  ...   0.118          15\n",
              "\n",
              "[1 rows x 17 columns]"
            ]
          },
          "metadata": {
            "tags": []
          },
          "execution_count": 6
        }
      ]
    },
    {
      "cell_type": "code",
      "metadata": {
        "id": "9l_31JUUND7J",
        "colab_type": "code",
        "colab": {
          "base_uri": "https://localhost:8080/",
          "height": 164
        },
        "outputId": "2756e4f9-1fa1-42dc-d7cb-1a6ba141e9ae"
      },
      "source": [
        "# Fix track_id\n",
        "df.drop(columns='track_id')\n",
        "df['track_id'] = range(1, len(df) + 1)\n",
        "df.head(1)"
      ],
      "execution_count": 7,
      "outputs": [
        {
          "output_type": "execute_result",
          "data": {
            "text/html": [
              "<div>\n",
              "<style scoped>\n",
              "    .dataframe tbody tr th:only-of-type {\n",
              "        vertical-align: middle;\n",
              "    }\n",
              "\n",
              "    .dataframe tbody tr th {\n",
              "        vertical-align: top;\n",
              "    }\n",
              "\n",
              "    .dataframe thead th {\n",
              "        text-align: right;\n",
              "    }\n",
              "</style>\n",
              "<table border=\"1\" class=\"dataframe\">\n",
              "  <thead>\n",
              "    <tr style=\"text-align: right;\">\n",
              "      <th></th>\n",
              "      <th>artist_name</th>\n",
              "      <th>track_id</th>\n",
              "      <th>track_name</th>\n",
              "      <th>acousticness</th>\n",
              "      <th>danceability</th>\n",
              "      <th>duration_ms</th>\n",
              "      <th>energy</th>\n",
              "      <th>instrumentalness</th>\n",
              "      <th>key</th>\n",
              "      <th>liveness</th>\n",
              "      <th>loudness</th>\n",
              "      <th>mode</th>\n",
              "      <th>speechiness</th>\n",
              "      <th>tempo</th>\n",
              "      <th>time_signature</th>\n",
              "      <th>valence</th>\n",
              "      <th>popularity</th>\n",
              "    </tr>\n",
              "  </thead>\n",
              "  <tbody>\n",
              "    <tr>\n",
              "      <th>0</th>\n",
              "      <td>YG</td>\n",
              "      <td>1</td>\n",
              "      <td>Big Bank feat. 2 Chainz, Big Sean, Nicki Minaj</td>\n",
              "      <td>0.00582</td>\n",
              "      <td>0.743</td>\n",
              "      <td>238373</td>\n",
              "      <td>0.339</td>\n",
              "      <td>0.0</td>\n",
              "      <td>1</td>\n",
              "      <td>0.0812</td>\n",
              "      <td>-7.678</td>\n",
              "      <td>1</td>\n",
              "      <td>0.409</td>\n",
              "      <td>203.927</td>\n",
              "      <td>4</td>\n",
              "      <td>0.118</td>\n",
              "      <td>15</td>\n",
              "    </tr>\n",
              "  </tbody>\n",
              "</table>\n",
              "</div>"
            ],
            "text/plain": [
              "  artist_name  track_id  ... valence  popularity\n",
              "0          YG         1  ...   0.118          15\n",
              "\n",
              "[1 rows x 17 columns]"
            ]
          },
          "metadata": {
            "tags": []
          },
          "execution_count": 7
        }
      ]
    },
    {
      "cell_type": "code",
      "metadata": {
        "id": "7F68gcFNlW71",
        "colab_type": "code",
        "outputId": "f9703730-806b-4cb9-92b5-6bff7f104c9b",
        "colab": {
          "base_uri": "https://localhost:8080/",
          "height": 302
        }
      },
      "source": [
        "for col in df.columns:\n",
        "  print(col)"
      ],
      "execution_count": 8,
      "outputs": [
        {
          "output_type": "stream",
          "text": [
            "artist_name\n",
            "track_id\n",
            "track_name\n",
            "acousticness\n",
            "danceability\n",
            "duration_ms\n",
            "energy\n",
            "instrumentalness\n",
            "key\n",
            "liveness\n",
            "loudness\n",
            "mode\n",
            "speechiness\n",
            "tempo\n",
            "time_signature\n",
            "valence\n",
            "popularity\n"
          ],
          "name": "stdout"
        }
      ]
    },
    {
      "cell_type": "code",
      "metadata": {
        "id": "Rc7ptn9aOEor",
        "colab_type": "code",
        "colab": {}
      },
      "source": [
        "# All from a specific artist\n",
        "# df[df['artist_name'] == 'YG']"
      ],
      "execution_count": 0,
      "outputs": []
    },
    {
      "cell_type": "code",
      "metadata": {
        "id": "_Dmh3uXaOEkt",
        "colab_type": "code",
        "colab": {}
      },
      "source": [
        "# Describe the dataset\n",
        "# df.describe()"
      ],
      "execution_count": 0,
      "outputs": []
    },
    {
      "cell_type": "code",
      "metadata": {
        "id": "U1Hzqx9hOEg7",
        "colab_type": "code",
        "colab": {
          "base_uri": "https://localhost:8080/",
          "height": 252
        },
        "outputId": "4d1813db-ba86-41e2-8d5e-33b0682e4503"
      },
      "source": [
        "# Drop potential leakage\n",
        "df.drop(columns=['artist_name', 'track_id', 'track_name'], inplace=True)\n",
        "for col in df.columns:\n",
        "  print(col)"
      ],
      "execution_count": 11,
      "outputs": [
        {
          "output_type": "stream",
          "text": [
            "acousticness\n",
            "danceability\n",
            "duration_ms\n",
            "energy\n",
            "instrumentalness\n",
            "key\n",
            "liveness\n",
            "loudness\n",
            "mode\n",
            "speechiness\n",
            "tempo\n",
            "time_signature\n",
            "valence\n",
            "popularity\n"
          ],
          "name": "stdout"
        }
      ]
    },
    {
      "cell_type": "code",
      "metadata": {
        "id": "Z7wsx5CRwUWq",
        "colab_type": "code",
        "outputId": "b6aa3722-f700-45b9-df91-50061542a443",
        "colab": {
          "base_uri": "https://localhost:8080/",
          "height": 134
        }
      },
      "source": [
        "# Set target\n",
        "# target = df['popularity']\n",
        "\n",
        "# Train test split\n",
        "train, test= train_test_split(df, test_size=0.045, random_state=42)\n",
        "\n",
        "# See shapes\n",
        "print(f'train: {train.shape}')\n",
        "print(f'test:  {test.shape}\\n')\n",
        "\n",
        "\n",
        "# Seperate train/test\n",
        "X_train = train.drop(columns='popularity')\n",
        "y_train = train['popularity']\n",
        "X_test = test.drop(columns='popularity')\n",
        "y_test= test['popularity']\n",
        "\n",
        "print(f'X_train shape: {X_train.shape}')\n",
        "print(f'y_train shape: {y_train.shape}')\n",
        "print(f'X_test  shape: {X_test.shape}')\n",
        "print(f'y_test  shape: {y_test.shape}')"
      ],
      "execution_count": 12,
      "outputs": [
        {
          "output_type": "stream",
          "text": [
            "train: (124783, 14)\n",
            "test:  (5880, 14)\n",
            "\n",
            "X_train shape: (124783, 13)\n",
            "y_train shape: (124783,)\n",
            "X_test  shape: (5880, 13)\n",
            "y_test  shape: (5880,)\n"
          ],
          "name": "stdout"
        }
      ]
    },
    {
      "cell_type": "code",
      "metadata": {
        "id": "Not_VfFGoDhQ",
        "colab_type": "code",
        "colab": {}
      },
      "source": [
        "#Normalizing the data\n",
        "sc = StandardScaler()\n",
        "X = sc.fit_transform(X_train)"
      ],
      "execution_count": 0,
      "outputs": []
    },
    {
      "cell_type": "markdown",
      "metadata": {
        "id": "EZJB-utnyoM3",
        "colab_type": "text"
      },
      "source": [
        "## ***Two bad models which I abandon and work with Will and Avery in advancing their ideas while simultaneously going through TL training.***"
      ]
    },
    {
      "cell_type": "code",
      "metadata": {
        "id": "8j6YYVDHOERt",
        "colab_type": "code",
        "colab": {
          "base_uri": "https://localhost:8080/",
          "height": 134
        },
        "outputId": "efda2e72-2bdc-480f-a11f-b356e9997ae3"
      },
      "source": [
        "# Start model\n",
        "model = Sequential()\n",
        "\n",
        "# Add to model\n",
        "model.add(Dense(8, input_dim=X_train.shape[1], activation='relu'))\n",
        "model.add(Dense(4, activation='relu'))\n",
        "model.add(Dense(1, activation='sigmoid'))\n",
        "\n",
        "# Compile model\n",
        "model.compile(loss='binary_crossentropy', optimizer='adam', metrics=['accuracy'])\n",
        "\n",
        "# Fit\n",
        "model.fit(X, y_train, epochs=3, batch_size=64, verbose=1)"
      ],
      "execution_count": 14,
      "outputs": [
        {
          "output_type": "stream",
          "text": [
            "Epoch 1/3\n",
            "1950/1950 [==============================] - 4s 2ms/step - loss: -12389.2393 - accuracy: 0.0261\n",
            "Epoch 2/3\n",
            "1950/1950 [==============================] - 4s 2ms/step - loss: -155022.3750 - accuracy: 0.0245\n",
            "Epoch 3/3\n",
            "1950/1950 [==============================] - 4s 2ms/step - loss: -540859.3750 - accuracy: 0.0245\n"
          ],
          "name": "stdout"
        },
        {
          "output_type": "execute_result",
          "data": {
            "text/plain": [
              "<tensorflow.python.keras.callbacks.History at 0x7ff2e0180ac8>"
            ]
          },
          "metadata": {
            "tags": []
          },
          "execution_count": 14
        }
      ]
    },
    {
      "cell_type": "code",
      "metadata": {
        "id": "AHh7KGH6ODuq",
        "colab_type": "code",
        "colab": {
          "base_uri": "https://localhost:8080/",
          "height": 134
        },
        "outputId": "889da884-acfe-4247-c56c-4b170cfbbc55"
      },
      "source": [
        "# Start model\n",
        "model = Sequential()\n",
        "\n",
        "# Add to model\n",
        "model.add(Dense(64, input_dim=X_train.shape[1], activation='relu'))\n",
        "model.add(Dense(32, activation='relu'))\n",
        "model.add(Dense(16, activation='relu'))\n",
        "model.add(Dense(12, activation='relu'))\n",
        "model.add(Dense(4, activation='relu'))\n",
        "model.add(Dense(1, activation='sigmoid'))\n",
        "  \n",
        "# Compile model\n",
        "model.compile(loss='categorical_crossentropy', optimizer='nadam', metrics=['accuracy'])\n",
        "\n",
        "# Fit model\n",
        "model.fit(X, y_train, epochs=3, batch_size=64, verbose=1)"
      ],
      "execution_count": 15,
      "outputs": [
        {
          "output_type": "stream",
          "text": [
            "Epoch 1/3\n",
            "1950/1950 [==============================] - 8s 4ms/step - loss: 2.8860e-06 - accuracy: 0.1339\n",
            "Epoch 2/3\n",
            "1950/1950 [==============================] - 8s 4ms/step - loss: 2.8860e-06 - accuracy: 0.1339\n",
            "Epoch 3/3\n",
            "1950/1950 [==============================] - 8s 4ms/step - loss: 2.8861e-06 - accuracy: 0.1339\n"
          ],
          "name": "stdout"
        },
        {
          "output_type": "execute_result",
          "data": {
            "text/plain": [
              "<tensorflow.python.keras.callbacks.History at 0x7ff296674748>"
            ]
          },
          "metadata": {
            "tags": []
          },
          "execution_count": 15
        }
      ]
    },
    {
      "cell_type": "markdown",
      "metadata": {
        "id": "z98Hd2Yh1mfw",
        "colab_type": "text"
      },
      "source": [
        "***As a group of DS Unit 4 students, we couldn't come up with a good/functioning ANN. So we moved from none of us having come up with an ANN to (after meeting with Jon Cody) trying cosign similarity. And once we decided that wasn't what we wanted, we switched to a K-Nearest-Neighbors solution which is what we finished on as a best choice of what worked for the whole team.***"
      ]
    },
    {
      "cell_type": "markdown",
      "metadata": {
        "id": "20PyQzAT5Clu",
        "colab_type": "text"
      },
      "source": [
        "See the [RUBRIC](https://www.notion.so/Data-Science-Unit-4-814c17e421334cd8b3d2867d1d49f541) for grading this."
      ]
    }
  ]
}