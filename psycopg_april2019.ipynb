{
 "cells": [
  {
   "cell_type": "code",
   "execution_count": 7,
   "metadata": {},
   "outputs": [
    {
     "output_type": "stream",
     "name": "stdout",
     "text": "Requirement already satisfied: psycopg2 in /Users/shannonhallmark/opt/anaconda3/lib/python3.7/site-packages (2.8.5)\nNote: you may need to restart the kernel to use updated packages.\n"
    }
   ],
   "source": [
    "pip install psycopg2"
   ]
  },
  {
   "cell_type": "code",
   "execution_count": 19,
   "metadata": {},
   "outputs": [],
   "source": [
    "import sys\n",
    "import psycopg2\n",
    "from psycopg2.extras import execute_values\n",
    "from dotenv import load_dotenv\n",
    "import os\n",
    "import json\n",
    "from sqlalchemy import create_engine\n",
    "import sqlite3"
   ]
  },
  {
   "cell_type": "code",
   "execution_count": 20,
   "metadata": {},
   "outputs": [],
   "source": [
    "SPOTIFY_DB_NAME = \"dfg9upl4j53iks\"\n",
    "SPOTIFY_DB_PW = \"e62f841b1a7582ec778e54005ccb72cefcbeb4fd0bb242e28899c5051d1b96f9\"\n",
    "SPOTIFY_DB_HOST = \"ec2-54-159-112-44.compute-1.amazonaws.com\"\n",
    "SPOTIFY_DB_USER = \"ssfwfumszzgmwt\""
   ]
  },
  {
   "cell_type": "code",
   "execution_count": 21,
   "metadata": {},
   "outputs": [
    {
     "output_type": "error",
     "ename": "OperationalError",
     "evalue": "FATAL:  role \"ssfwfumszzgmwt\" is not permitted to log in\n",
     "traceback": [
      "\u001b[0;31m---------------------------------------------------------------------------\u001b[0m",
      "\u001b[0;31mOperationalError\u001b[0m                          Traceback (most recent call last)",
      "\u001b[0;32m<ipython-input-21-d5337e188217>\u001b[0m in \u001b[0;36m<module>\u001b[0;34m\u001b[0m\n\u001b[1;32m      1\u001b[0m conn = psycopg2.connect(dbname=SPOTIFY_DB_NAME, user=SPOTIFY_DB_USER,\n\u001b[0;32m----> 2\u001b[0;31m                         password=SPOTIFY_DB_PW, host=SPOTIFY_DB_HOST)\n\u001b[0m\u001b[1;32m      3\u001b[0m \u001b[0mcur\u001b[0m \u001b[0;34m=\u001b[0m \u001b[0mconn\u001b[0m\u001b[0;34m.\u001b[0m\u001b[0mcursor\u001b[0m\u001b[0;34m(\u001b[0m\u001b[0;34m)\u001b[0m\u001b[0;34m\u001b[0m\u001b[0;34m\u001b[0m\u001b[0m\n",
      "\u001b[0;32m~/opt/anaconda3/lib/python3.7/site-packages/psycopg2/__init__.py\u001b[0m in \u001b[0;36mconnect\u001b[0;34m(dsn, connection_factory, cursor_factory, **kwargs)\u001b[0m\n\u001b[1;32m    125\u001b[0m \u001b[0;34m\u001b[0m\u001b[0m\n\u001b[1;32m    126\u001b[0m     \u001b[0mdsn\u001b[0m \u001b[0;34m=\u001b[0m \u001b[0m_ext\u001b[0m\u001b[0;34m.\u001b[0m\u001b[0mmake_dsn\u001b[0m\u001b[0;34m(\u001b[0m\u001b[0mdsn\u001b[0m\u001b[0;34m,\u001b[0m \u001b[0;34m**\u001b[0m\u001b[0mkwargs\u001b[0m\u001b[0;34m)\u001b[0m\u001b[0;34m\u001b[0m\u001b[0;34m\u001b[0m\u001b[0m\n\u001b[0;32m--> 127\u001b[0;31m     \u001b[0mconn\u001b[0m \u001b[0;34m=\u001b[0m \u001b[0m_connect\u001b[0m\u001b[0;34m(\u001b[0m\u001b[0mdsn\u001b[0m\u001b[0;34m,\u001b[0m \u001b[0mconnection_factory\u001b[0m\u001b[0;34m=\u001b[0m\u001b[0mconnection_factory\u001b[0m\u001b[0;34m,\u001b[0m \u001b[0;34m**\u001b[0m\u001b[0mkwasync\u001b[0m\u001b[0;34m)\u001b[0m\u001b[0;34m\u001b[0m\u001b[0;34m\u001b[0m\u001b[0m\n\u001b[0m\u001b[1;32m    128\u001b[0m     \u001b[0;32mif\u001b[0m \u001b[0mcursor_factory\u001b[0m \u001b[0;32mis\u001b[0m \u001b[0;32mnot\u001b[0m \u001b[0;32mNone\u001b[0m\u001b[0;34m:\u001b[0m\u001b[0;34m\u001b[0m\u001b[0;34m\u001b[0m\u001b[0m\n\u001b[1;32m    129\u001b[0m         \u001b[0mconn\u001b[0m\u001b[0;34m.\u001b[0m\u001b[0mcursor_factory\u001b[0m \u001b[0;34m=\u001b[0m \u001b[0mcursor_factory\u001b[0m\u001b[0;34m\u001b[0m\u001b[0;34m\u001b[0m\u001b[0m\n",
      "\u001b[0;31mOperationalError\u001b[0m: FATAL:  role \"ssfwfumszzgmwt\" is not permitted to log in\n"
     ]
    }
   ],
   "source": [
    "conn = psycopg2.connect(dbname=SPOTIFY_DB_NAME, user=SPOTIFY_DB_USER,\n",
    "                        password=SPOTIFY_DB_PW, host=SPOTIFY_DB_HOST)\n",
    "cur = conn.cursor()"
   ]
  },
  {
   "cell_type": "code",
   "execution_count": 22,
   "metadata": {},
   "outputs": [],
   "source": [
    "s3_conn = sqlite3.connect('sqliteSPOT.sqlite3')\n",
    "curse = s3_conn.cursor()"
   ]
  },
  {
   "cell_type": "code",
   "execution_count": 23,
   "metadata": {},
   "outputs": [],
   "source": [
    "insert_table = \"\"\"\n",
    "CREATE TABLE SpotTest4(\n",
    "    id SERIAL PRIMARY KEY, \n",
    "    artist_name VARCHAR,\n",
    "    track_id VARCHAR,\n",
    "    track_name VARCHAR,\n",
    "    acousticness REAL,\n",
    "    danceability REAL,\n",
    "    duration INT,\n",
    "    energy REAL,\n",
    "    instrumentalness REAL,\n",
    "    key INT,\n",
    "    liveness REAL,\n",
    "    loudness REAL,\n",
    "    mode INT,\n",
    "    speechiness REAL,\n",
    "    tempo REAL,\n",
    "    time_signature INT,\n",
    "    valence REAL,\n",
    "    popularity INT);\"\"\""
   ]
  },
  {
   "cell_type": "code",
   "execution_count": 24,
   "metadata": {},
   "outputs": [
    {
     "output_type": "error",
     "ename": "OperationalError",
     "evalue": "table SpotTest4 already exists",
     "traceback": [
      "\u001b[0;31m---------------------------------------------------------------------------\u001b[0m",
      "\u001b[0;31mOperationalError\u001b[0m                          Traceback (most recent call last)",
      "\u001b[0;32m<ipython-input-24-8194da206f06>\u001b[0m in \u001b[0;36m<module>\u001b[0;34m\u001b[0m\n\u001b[0;32m----> 1\u001b[0;31m \u001b[0mcurse\u001b[0m\u001b[0;34m.\u001b[0m\u001b[0mexecute\u001b[0m\u001b[0;34m(\u001b[0m\u001b[0minsert_table\u001b[0m\u001b[0;34m)\u001b[0m\u001b[0;34m\u001b[0m\u001b[0;34m\u001b[0m\u001b[0m\n\u001b[0m\u001b[1;32m      2\u001b[0m \u001b[0mcurse\u001b[0m\u001b[0;34m.\u001b[0m\u001b[0mclose\u001b[0m\u001b[0;34m(\u001b[0m\u001b[0;34m)\u001b[0m\u001b[0;34m\u001b[0m\u001b[0;34m\u001b[0m\u001b[0m\n\u001b[1;32m      3\u001b[0m \u001b[0mS3_conn\u001b[0m\u001b[0;34m.\u001b[0m\u001b[0mcommit\u001b[0m\u001b[0;34m(\u001b[0m\u001b[0;34m)\u001b[0m\u001b[0;34m\u001b[0m\u001b[0;34m\u001b[0m\u001b[0m\n",
      "\u001b[0;31mOperationalError\u001b[0m: table SpotTest4 already exists"
     ]
    }
   ],
   "source": [
    "curse.execute(insert_table)\n",
    "curse.close()\n",
    "S3_conn.commit()"
   ]
  },
  {
   "cell_type": "code",
   "execution_count": 26,
   "metadata": {},
   "outputs": [],
   "source": [
    "import pandas as pd\n",
    "\n",
    "df = pd.read_csv(\"https://raw.githubusercontent.com/Lambda-Spotify-Song-Suggester-3/datascience/master/kaggle_data/SpotifyAudioFeaturesApril2019.csv\")"
   ]
  },
  {
   "cell_type": "code",
   "execution_count": 27,
   "metadata": {},
   "outputs": [
    {
     "output_type": "execute_result",
     "data": {
      "text/plain": "artist_name          object\ntrack_id             object\ntrack_name           object\nacousticness        float64\ndanceability        float64\nduration_ms           int64\nenergy              float64\ninstrumentalness    float64\nkey                   int64\nliveness            float64\nloudness            float64\nmode                  int64\nspeechiness         float64\ntempo               float64\ntime_signature        int64\nvalence             float64\npopularity            int64\ndtype: object"
     },
     "metadata": {},
     "execution_count": 27
    }
   ],
   "source": [
    "df.dtypes"
   ]
  },
  {
   "cell_type": "code",
   "execution_count": 28,
   "metadata": {},
   "outputs": [
    {
     "output_type": "execute_result",
     "data": {
      "text/plain": "                  artist_name                track_id      track_name  \\\n130658            Calum Scott  0cvfSKcm9VeduwyYPrxtLx  Come Back Home   \n130659           Saint Claire  43MP9F7UzvfilSrw2SqZGJ  Enough for You   \n130660              Mike Stud  4TWlUuFk81NGUNKwndyS5Q           Do It   \n130661               D Savage  5iGBXzOoRo4sBTy8wdzMyK        No Smoke   \n130662  Banda Los Sebastianes  7LNtyuekYHiZ99UxkrfCQR         En Vida   \n\n        acousticness  danceability  duration_ms  energy  instrumentalness  \\\n130658       0.00678         0.601       190539   0.801               0.0   \n130659       0.91800         0.387       194583   0.249               0.0   \n130660       0.33000         0.717       139191   0.532               0.0   \n130661       0.00790         0.772       180013   0.510               0.0   \n130662       0.54900         0.715       145827   0.734               0.0   \n\n        key  liveness  loudness  mode  speechiness    tempo  time_signature  \\\n130658   11    0.0991    -5.174     1       0.0323  131.049               4   \n130659    9    0.1030   -13.233     1       0.0437   94.039               4   \n130660    8    0.0997    -8.351     0       0.2060  156.977               4   \n130661    4    0.1310    -9.670     0       0.1200  120.049               4   \n130662    3    0.1080    -3.244     1       0.0367  130.128               3   \n\n        valence  popularity  \n130658   0.2890          57  \n130659   0.3460          60  \n130660   0.5460          47  \n130661   0.0755          50  \n130662   0.9760          55  ",
      "text/html": "<div>\n<style scoped>\n    .dataframe tbody tr th:only-of-type {\n        vertical-align: middle;\n    }\n\n    .dataframe tbody tr th {\n        vertical-align: top;\n    }\n\n    .dataframe thead th {\n        text-align: right;\n    }\n</style>\n<table border=\"1\" class=\"dataframe\">\n  <thead>\n    <tr style=\"text-align: right;\">\n      <th></th>\n      <th>artist_name</th>\n      <th>track_id</th>\n      <th>track_name</th>\n      <th>acousticness</th>\n      <th>danceability</th>\n      <th>duration_ms</th>\n      <th>energy</th>\n      <th>instrumentalness</th>\n      <th>key</th>\n      <th>liveness</th>\n      <th>loudness</th>\n      <th>mode</th>\n      <th>speechiness</th>\n      <th>tempo</th>\n      <th>time_signature</th>\n      <th>valence</th>\n      <th>popularity</th>\n    </tr>\n  </thead>\n  <tbody>\n    <tr>\n      <td>130658</td>\n      <td>Calum Scott</td>\n      <td>0cvfSKcm9VeduwyYPrxtLx</td>\n      <td>Come Back Home</td>\n      <td>0.00678</td>\n      <td>0.601</td>\n      <td>190539</td>\n      <td>0.801</td>\n      <td>0.0</td>\n      <td>11</td>\n      <td>0.0991</td>\n      <td>-5.174</td>\n      <td>1</td>\n      <td>0.0323</td>\n      <td>131.049</td>\n      <td>4</td>\n      <td>0.2890</td>\n      <td>57</td>\n    </tr>\n    <tr>\n      <td>130659</td>\n      <td>Saint Claire</td>\n      <td>43MP9F7UzvfilSrw2SqZGJ</td>\n      <td>Enough for You</td>\n      <td>0.91800</td>\n      <td>0.387</td>\n      <td>194583</td>\n      <td>0.249</td>\n      <td>0.0</td>\n      <td>9</td>\n      <td>0.1030</td>\n      <td>-13.233</td>\n      <td>1</td>\n      <td>0.0437</td>\n      <td>94.039</td>\n      <td>4</td>\n      <td>0.3460</td>\n      <td>60</td>\n    </tr>\n    <tr>\n      <td>130660</td>\n      <td>Mike Stud</td>\n      <td>4TWlUuFk81NGUNKwndyS5Q</td>\n      <td>Do It</td>\n      <td>0.33000</td>\n      <td>0.717</td>\n      <td>139191</td>\n      <td>0.532</td>\n      <td>0.0</td>\n      <td>8</td>\n      <td>0.0997</td>\n      <td>-8.351</td>\n      <td>0</td>\n      <td>0.2060</td>\n      <td>156.977</td>\n      <td>4</td>\n      <td>0.5460</td>\n      <td>47</td>\n    </tr>\n    <tr>\n      <td>130661</td>\n      <td>D Savage</td>\n      <td>5iGBXzOoRo4sBTy8wdzMyK</td>\n      <td>No Smoke</td>\n      <td>0.00790</td>\n      <td>0.772</td>\n      <td>180013</td>\n      <td>0.510</td>\n      <td>0.0</td>\n      <td>4</td>\n      <td>0.1310</td>\n      <td>-9.670</td>\n      <td>0</td>\n      <td>0.1200</td>\n      <td>120.049</td>\n      <td>4</td>\n      <td>0.0755</td>\n      <td>50</td>\n    </tr>\n    <tr>\n      <td>130662</td>\n      <td>Banda Los Sebastianes</td>\n      <td>7LNtyuekYHiZ99UxkrfCQR</td>\n      <td>En Vida</td>\n      <td>0.54900</td>\n      <td>0.715</td>\n      <td>145827</td>\n      <td>0.734</td>\n      <td>0.0</td>\n      <td>3</td>\n      <td>0.1080</td>\n      <td>-3.244</td>\n      <td>1</td>\n      <td>0.0367</td>\n      <td>130.128</td>\n      <td>3</td>\n      <td>0.9760</td>\n      <td>55</td>\n    </tr>\n  </tbody>\n</table>\n</div>"
     },
     "metadata": {},
     "execution_count": 28
    }
   ],
   "source": [
    "df.tail()"
   ]
  },
  {
   "cell_type": "code",
   "execution_count": 31,
   "metadata": {},
   "outputs": [],
   "source": [
    "df_columns = df.columns"
   ]
  },
  {
   "cell_type": "code",
   "execution_count": 30,
   "metadata": {},
   "outputs": [
    {
     "output_type": "error",
     "ename": "OperationalError",
     "evalue": "no such table: test2",
     "traceback": [
      "\u001b[0;31m---------------------------------------------------------------------------\u001b[0m",
      "\u001b[0;31mOperationalError\u001b[0m                          Traceback (most recent call last)",
      "\u001b[0;32m<ipython-input-30-1463aac488f4>\u001b[0m in \u001b[0;36m<module>\u001b[0;34m\u001b[0m\n\u001b[0;32m----> 1\u001b[0;31m \u001b[0mall_data\u001b[0m \u001b[0;34m=\u001b[0m \u001b[0mcurse\u001b[0m\u001b[0;34m.\u001b[0m\u001b[0mexecute\u001b[0m\u001b[0;34m(\u001b[0m\u001b[0;34m\"SELECT * FROM test2\"\u001b[0m\u001b[0;34m)\u001b[0m\u001b[0;34m.\u001b[0m\u001b[0mfetchall\u001b[0m\u001b[0;34m(\u001b[0m\u001b[0;34m)\u001b[0m\u001b[0;34m\u001b[0m\u001b[0;34m\u001b[0m\u001b[0m\n\u001b[0m\u001b[1;32m      2\u001b[0m \u001b[0mall_data\u001b[0m\u001b[0;34m\u001b[0m\u001b[0;34m\u001b[0m\u001b[0m\n",
      "\u001b[0;31mOperationalError\u001b[0m: no such table: test2"
     ]
    }
   ],
   "source": [
    "all_data = curse.execute(\"SELECT * FROM test2\").fetchall()\n",
    "all_data"
   ]
  },
  {
   "cell_type": "code",
   "execution_count": 32,
   "metadata": {},
   "outputs": [
    {
     "output_type": "error",
     "ename": "NameError",
     "evalue": "name 'all_data' is not defined",
     "traceback": [
      "\u001b[0;31m---------------------------------------------------------------------------\u001b[0m",
      "\u001b[0;31mNameError\u001b[0m                                 Traceback (most recent call last)",
      "\u001b[0;32m<ipython-input-32-55b754ac9f27>\u001b[0m in \u001b[0;36m<module>\u001b[0;34m\u001b[0m\n\u001b[0;32m----> 1\u001b[0;31m \u001b[0;32mfor\u001b[0m \u001b[0mdata\u001b[0m \u001b[0;32min\u001b[0m \u001b[0mall_data\u001b[0m\u001b[0;34m:\u001b[0m\u001b[0;34m\u001b[0m\u001b[0;34m\u001b[0m\u001b[0m\n\u001b[0m\u001b[1;32m      2\u001b[0m     insert_data=\"\"\"\n\u001b[1;32m      3\u001b[0m     \u001b[0mINSERT\u001b[0m \u001b[0mINTO\u001b[0m \u001b[0mspotifytable\u001b[0m\u001b[0;34m\u001b[0m\u001b[0;34m\u001b[0m\u001b[0m\n\u001b[1;32m      4\u001b[0m     \u001b[0;34m(\u001b[0m\u001b[0martist_name\u001b[0m\u001b[0;34m,\u001b[0m \u001b[0mtrack_id\u001b[0m\u001b[0;34m,\u001b[0m \u001b[0mtrack_name\u001b[0m\u001b[0;34m,\u001b[0m \u001b[0macousticness\u001b[0m\u001b[0;34m,\u001b[0m \u001b[0mdanceability\u001b[0m\u001b[0;34m,\u001b[0m \u001b[0mduration\u001b[0m\u001b[0;34m,\u001b[0m \u001b[0menergy\u001b[0m\u001b[0;34m,\u001b[0m \u001b[0minstrumentalness\u001b[0m\u001b[0;34m,\u001b[0m \u001b[0mkey\u001b[0m\u001b[0;34m,\u001b[0m \u001b[0mliveness\u001b[0m\u001b[0;34m,\u001b[0m \u001b[0mloudness\u001b[0m\u001b[0;34m,\u001b[0m \u001b[0mmode\u001b[0m\u001b[0;34m,\u001b[0m \u001b[0mspeechiness\u001b[0m\u001b[0;34m,\u001b[0m \u001b[0mtempo\u001b[0m\u001b[0;34m,\u001b[0m \u001b[0mtime_signature\u001b[0m\u001b[0;34m,\u001b[0m \u001b[0mvalence\u001b[0m\u001b[0;34m,\u001b[0m \u001b[0mpopularity\u001b[0m\u001b[0;34m)\u001b[0m\u001b[0;34m\u001b[0m\u001b[0;34m\u001b[0m\u001b[0m\n\u001b[1;32m      5\u001b[0m     \u001b[0mVALUES\u001b[0m\u001b[0;34m\u001b[0m\u001b[0;34m\u001b[0m\u001b[0m\n",
      "\u001b[0;31mNameError\u001b[0m: name 'all_data' is not defined"
     ]
    }
   ],
   "source": [
    "for data in all_data:\n",
    "    insert_data=\"\"\"\n",
    "    INSERT INTO spotifytable \n",
    "    (artist_name, track_id, track_name, acousticness, danceability, duration, energy, instrumentalness, key, liveness, loudness, mode, speechiness, tempo, time_signature, valence, popularity)\n",
    "    VALUES\n",
    "    \"\"\" + str(data[1:]) + ';'\n",
    "    pg_curs.execute(insert_data)\n",
    "    \n",
    "pg_curs.close()\n",
    "pg_conn.commit()"
   ]
  },
  {
   "cell_type": "code",
   "execution_count": null,
   "metadata": {},
   "outputs": [],
   "source": []
  }
 ],
 "metadata": {
  "kernelspec": {
   "display_name": "Python 3",
   "language": "python",
   "name": "python3"
  },
  "language_info": {
   "codemirror_mode": {
    "name": "ipython",
    "version": 3
   },
   "file_extension": ".py",
   "mimetype": "text/x-python",
   "name": "python",
   "nbconvert_exporter": "python",
   "pygments_lexer": "ipython3",
   "version": "3.8.2-final"
  }
 },
 "nbformat": 4,
 "nbformat_minor": 2
}